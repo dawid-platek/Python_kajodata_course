{
 "cells": [
  {
   "cell_type": "markdown",
   "metadata": {},
   "source": [
    "## Praca z tekstem - podstawy\n",
    "\n",
    "## replace()\n"
   ]
  },
  {
   "cell_type": "code",
   "execution_count": 14,
   "metadata": {},
   "outputs": [
    {
     "name": "stdout",
     "output_type": "stream",
     "text": [
      "Hello Python!\n"
     ]
    }
   ],
   "source": [
    "text = 'Hello World!'\n",
    "new_text = text.replace('World', 'Python') \n",
    "print(new_text)"
   ]
  },
  {
   "cell_type": "code",
   "execution_count": 15,
   "metadata": {},
   "outputs": [
    {
     "name": "stdout",
     "output_type": "stream",
     "text": [
      "HelloWorld\n"
     ]
    }
   ],
   "source": [
    "text = \"Hello,World\"\n",
    "cleaned = text.replace(',', '')\n",
    "print(cleaned)"
   ]
  },
  {
   "cell_type": "markdown",
   "metadata": {},
   "source": [
    "## find() i index()"
   ]
  },
  {
   "cell_type": "code",
   "execution_count": 16,
   "metadata": {},
   "outputs": [
    {
     "name": "stdout",
     "output_type": "stream",
     "text": [
      "6\n",
      "6\n"
     ]
    }
   ],
   "source": [
    "text = \"Hello world\"\n",
    "pos = text.find(\"world\")\n",
    "pos2 = text.index(\"world\")\n",
    "\n",
    "print(pos)\n",
    "print(pos2)"
   ]
  },
  {
   "cell_type": "markdown",
   "metadata": {},
   "source": [
    "## upper(), lower(), capitalize()"
   ]
  },
  {
   "cell_type": "code",
   "execution_count": 17,
   "metadata": {},
   "outputs": [
    {
     "name": "stdout",
     "output_type": "stream",
     "text": [
      "KAJODATA\n",
      "kajodata\n",
      "Kajodata\n"
     ]
    }
   ],
   "source": [
    "text = \"KajoDATA\"\n",
    "print(text.upper())\n",
    "print(text.lower())\n",
    "print(text.capitalize())"
   ]
  },
  {
   "cell_type": "markdown",
   "metadata": {},
   "source": [
    "## strip()"
   ]
  },
  {
   "cell_type": "code",
   "execution_count": 18,
   "metadata": {},
   "outputs": [
    {
     "name": "stdout",
     "output_type": "stream",
     "text": [
      " hello world \n",
      "    \n",
      "...\n",
      "hello world\n",
      "...\n"
     ]
    }
   ],
   "source": [
    "text = \" hello world \\n    \"\n",
    "clean_text = text.strip()\n",
    "print(text)\n",
    "print(\"...\")\n",
    "print(clean_text)\n",
    "print(\"...\")\n"
   ]
  },
  {
   "cell_type": "code",
   "execution_count": 19,
   "metadata": {},
   "outputs": [
    {
     "name": "stdout",
     "output_type": "stream",
     "text": [
      "     hello world \n",
      "    \n",
      "...\n",
      "helloworld\n",
      "...\n"
     ]
    }
   ],
   "source": [
    "text = \"     hello world \\n    \"\n",
    "clean_text = text.strip().replace(' ', '')\n",
    "print(text)\n",
    "print(\"...\")\n",
    "print(clean_text)\n",
    "print(\"...\")"
   ]
  },
  {
   "cell_type": "markdown",
   "metadata": {},
   "source": [
    "## split()"
   ]
  },
  {
   "cell_type": "code",
   "execution_count": 25,
   "metadata": {},
   "outputs": [
    {
     "name": "stdout",
     "output_type": "stream",
     "text": [
      "['hello', 'world']\n"
     ]
    }
   ],
   "source": [
    "text2 = \"hello world\"\n",
    "words = text2.split()\n",
    "print(words)"
   ]
  },
  {
   "cell_type": "code",
   "execution_count": 27,
   "metadata": {},
   "outputs": [
    {
     "name": "stdout",
     "output_type": "stream",
     "text": [
      "['hello', 'world', 'this', 'is', 'a', 'test']\n"
     ]
    }
   ],
   "source": [
    "data = \"hello,world,this,is,a,test\"\n",
    "words = data.split(',')\n",
    "print(words)"
   ]
  },
  {
   "cell_type": "markdown",
   "metadata": {},
   "source": [
    "## Łączenie metod"
   ]
  },
  {
   "cell_type": "code",
   "execution_count": 29,
   "metadata": {},
   "outputs": [
    {
     "name": "stdout",
     "output_type": "stream",
     "text": [
      "['Jan Kowalski', '17']\n"
     ]
    }
   ],
   "source": [
    "customer = \"Jan Kowalski,17\\n\"\n",
    "print(customer.strip().split(\",\"))"
   ]
  }
 ],
 "metadata": {
  "kernelspec": {
   "display_name": "Python 3",
   "language": "python",
   "name": "python3"
  },
  "language_info": {
   "codemirror_mode": {
    "name": "ipython",
    "version": 3
   },
   "file_extension": ".py",
   "mimetype": "text/x-python",
   "name": "python",
   "nbconvert_exporter": "python",
   "pygments_lexer": "ipython3",
   "version": "3.13.0"
  }
 },
 "nbformat": 4,
 "nbformat_minor": 2
}
