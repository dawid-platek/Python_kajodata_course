{
 "cells": [
  {
   "cell_type": "markdown",
   "id": "6fa931fc-87dc-4587-a110-8f4c479c6f19",
   "metadata": {},
   "source": [
    "## Średnia ilość zamówień\n",
    "\n",
    "Napisz funkcję która przyjmuję listę słowników i z każdego słownika podaje (print) najwyższą średnią ilość zamówień per klient zaokrąglonę do 2 miejsc po przecinku, radząc sobie w przypadku dzielenia błędów przez 0\n",
    "\n",
    "Tip użyj komendy 'pass' w bloku 'except' by pominąć błąd."
   ]
  },
  {
   "cell_type": "markdown",
   "id": "c6bf882b-03d6-4d63-a1f1-3606a592acb1",
   "metadata": {},
   "source": [
    "#### Dane"
   ]
  },
  {
   "cell_type": "code",
   "execution_count": 6,
   "id": "350459c3-7d09-4e53-b791-9ebdf66872ee",
   "metadata": {},
   "outputs": [],
   "source": [
    "data = [\n",
    "    {'quarter': 'Q1', 'customers': 0, 'orders': 0},\n",
    "    {'quarter': 'Q1', 'customers': 10, 'orders': 30},\n",
    "    {'quarter': 'Q1', 'customers': 22, 'orders': 67},\n",
    "    {'quarter': 'Q1', 'customers': 48, 'orders': 111}\n",
    "]"
   ]
  },
  {
   "cell_type": "markdown",
   "id": "901440e5-b519-4fe4-a5ce-cc19c4945227",
   "metadata": {},
   "source": [
    "## Znalezienie najbliższego wydarzenia\n",
    "\n",
    "Napisz funkcję, która przyjmuje listę słowników, gdzie każdy słownik reprezentuje wydarzenie z określoną datą, i zwraca informacje o wydarzeniu, które odbędzie się najbliżej dzisiejszej daty. Każdy słownik w liście zawiera klucze: 'name' (nazwa wydarzenia) i 'date' (data wydarzenia w formacie 'YYYY-MM-DD').\n",
    "\n",
    "Tipy: możesz użyć słowa None, który jest odpowiednikiem NULL z SQLa jeśli coś ma być puste. Być może będziesz musiał poszukać w internecie jak porównywać daty między sobą, bo nie wszystko było do tej pory. Ale znajdywanie wiedzy to część ćwiczenia ;)"
   ]
  },
  {
   "cell_type": "markdown",
   "id": "62d81b35-4f4e-4ec2-bf5e-769a13a11916",
   "metadata": {},
   "source": [
    "#### Dane"
   ]
  },
  {
   "cell_type": "code",
   "execution_count": 9,
   "id": "4ee4730e-9d68-457f-a498-27161a6124ec",
   "metadata": {},
   "outputs": [],
   "source": [
    "events = [\n",
    "    {'name': 'Koncert', 'date': '2023-12-25'},\n",
    "    {'name': 'Spotkanie biznesowe', 'date': '2022-11-15'},\n",
    "    {'name': 'Urodziny', 'date': '2024-03-03'}\n",
    "]"
   ]
  }
 ],
 "metadata": {
  "kernelspec": {
   "display_name": "Python 3 (ipykernel)",
   "language": "python",
   "name": "python3"
  },
  "language_info": {
   "codemirror_mode": {
    "name": "ipython",
    "version": 3
   },
   "file_extension": ".py",
   "mimetype": "text/x-python",
   "name": "python",
   "nbconvert_exporter": "python",
   "pygments_lexer": "ipython3",
   "version": "3.11.7"
  }
 },
 "nbformat": 4,
 "nbformat_minor": 5
}
