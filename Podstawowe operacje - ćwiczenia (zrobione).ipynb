{
 "cells": [
  {
   "cell_type": "markdown",
   "id": "bdae0abc-cf98-4922-8bab-fea5704b7ae8",
   "metadata": {},
   "source": [
    "## Zadanie 1\n",
    "Korzystając z print() wypisz liczbę 1234."
   ]
  },
  {
   "cell_type": "code",
   "execution_count": 1,
   "id": "5103eb89-e1c2-443d-bccf-0dc24818fa7c",
   "metadata": {},
   "outputs": [
    {
     "name": "stdout",
     "output_type": "stream",
     "text": [
      "1234\n"
     ]
    }
   ],
   "source": [
    "print(1234)"
   ]
  },
  {
   "cell_type": "markdown",
   "id": "019db934-295e-451c-bf7b-17edc37cc885",
   "metadata": {},
   "source": [
    "## Zadanie 2\n",
    "Korzystając z print() wypisz ciąg znaków 1234."
   ]
  },
  {
   "cell_type": "code",
   "execution_count": 3,
   "id": "a9ba68d0-10a1-43ca-8a3e-69e2f915cb32",
   "metadata": {},
   "outputs": [
    {
     "name": "stdout",
     "output_type": "stream",
     "text": [
      "1234\n"
     ]
    }
   ],
   "source": [
    "print('1234')"
   ]
  },
  {
   "cell_type": "markdown",
   "id": "a263cf51-0a00-44b8-a2a2-809df600d8c9",
   "metadata": {},
   "source": [
    "## Zadanie 3\n",
    "Oblicz i wypisz wynik mnożenia liczby 25 przez 4."
   ]
  },
  {
   "cell_type": "code",
   "execution_count": 13,
   "id": "dc852b0c-dcda-40e6-8edf-b50d35a4dd96",
   "metadata": {},
   "outputs": [
    {
     "name": "stdout",
     "output_type": "stream",
     "text": [
      "Wynik mnożenia:  100\n"
     ]
    }
   ],
   "source": [
    "print(\"Wynik mnożenia: \", 25*4)"
   ]
  },
  {
   "cell_type": "markdown",
   "id": "665aafeb-40b0-4884-bd71-ab38706c0611",
   "metadata": {},
   "source": [
    "## Zadanie 4\n",
    "Oblicz i wypisz wynik dzielenia liczby 100 przez 8 w dwóch osobnych liniach."
   ]
  },
  {
   "cell_type": "code",
   "execution_count": 11,
   "id": "43bdd714-b9c3-4871-aae9-035f11e35f6c",
   "metadata": {},
   "outputs": [
    {
     "name": "stdout",
     "output_type": "stream",
     "text": [
      "Wynik dzielenia:  12.5\n"
     ]
    }
   ],
   "source": [
    "print(\"Wynik dzielenia: \", 100/8)"
   ]
  },
  {
   "cell_type": "markdown",
   "id": "e949487c-9d29-4173-aa4c-5ea2d1533512",
   "metadata": {},
   "source": [
    "## Zadanie 5\n",
    "Używając metod format() oraz f-string oraz przypisania wartości do zmiennych, wypisz dwukrotnie zdanie opisujące Twoje imię i wiek."
   ]
  },
  {
   "cell_type": "code",
   "execution_count": 21,
   "id": "e896953c-f06c-40eb-83e9-08da8655076d",
   "metadata": {},
   "outputs": [
    {
     "name": "stdout",
     "output_type": "stream",
     "text": [
      "Mam na imię Dawid i mam 35 lat.\n",
      "Mam na imię Dawid i mam 35 lat.\n"
     ]
    }
   ],
   "source": [
    "name = 'Dawid'\n",
    "age = 35\n",
    "print(\"Mam na imię {} i mam {} lat.\".format(name, age))\n",
    "print(f'Mam na imię {name} i mam {age} lat.')"
   ]
  },
  {
   "cell_type": "code",
   "execution_count": null,
   "id": "5a5065f6-61c9-4eb5-80b4-b477e679c396",
   "metadata": {},
   "outputs": [],
   "source": []
  }
 ],
 "metadata": {
  "kernelspec": {
   "display_name": "Python 3 (ipykernel)",
   "language": "python",
   "name": "python3"
  },
  "language_info": {
   "codemirror_mode": {
    "name": "ipython",
    "version": 3
   },
   "file_extension": ".py",
   "mimetype": "text/x-python",
   "name": "python",
   "nbconvert_exporter": "python",
   "pygments_lexer": "ipython3",
   "version": "3.12.4"
  }
 },
 "nbformat": 4,
 "nbformat_minor": 5
}
