{
 "cells": [
  {
   "cell_type": "markdown",
   "id": "96c91110-83e7-4410-ab78-1c23cf844bea",
   "metadata": {},
   "source": [
    "## Zadanie 1: Znajdź liczbę parzystą\n"
   ]
  },
  {
   "cell_type": "raw",
   "id": "42e1c223-9b2b-49b9-8976-655a42d03b7b",
   "metadata": {},
   "source": [
    "Cel: Stwórz listę, która zawiera tylko parzyste liczby z podanej listy liczb.\n",
    "\n",
    "Lista do przetworzenia: [1, 2, 3, 4, 5, 6, 7, 8, 9, 10]"
   ]
  },
  {
   "cell_type": "code",
   "execution_count": null,
   "id": "257f1ff2-455e-4962-bd2f-f99e115402bf",
   "metadata": {},
   "outputs": [],
   "source": []
  },
  {
   "cell_type": "markdown",
   "id": "a5b6c16f-9d87-45dc-adb9-77a5ed9ba887",
   "metadata": {},
   "source": [
    "## Zadanie 2: Zamień temperatury z Celsjusza na Fahrenheita\n"
   ]
  },
  {
   "cell_type": "raw",
   "id": "a9be1e89-2bac-474f-afc4-a145e044c41d",
   "metadata": {},
   "source": [
    "Cel: Konwersja listy temperatur w stopniach Celsjusza na stopnie Fahrenheita. Wzór: \n",
    "𝐹 = 𝐶 × 9 / 5 + 32\n",
    "\n",
    "Lista temperatur w Celsjuszach: [0, 10, 20, 30, 40]"
   ]
  },
  {
   "cell_type": "markdown",
   "id": "977da304-c023-4a6a-9266-1f68b9a65252",
   "metadata": {},
   "source": [
    "## Zadanie 3: Filtruj słowa dłuższe niż 4 litery"
   ]
  },
  {
   "cell_type": "raw",
   "id": "2337f7ad-d92b-417a-8ca6-5f5aee7b6525",
   "metadata": {},
   "source": [
    "Cel: Stworzenie nowej listy, która zawiera tylko słowa dłuższe niż 4 litery z podanej listy słów. Wykorzystaj list comprehension.\n",
    "\n",
    "Lista słów: [\"jabłko\", \"gruszka\", \"kiwi\", \"banan\", \"śliwka\"]"
   ]
  },
  {
   "cell_type": "markdown",
   "id": "eeb8ac4f-b794-46b5-8585-4231ee14a93a",
   "metadata": {},
   "source": [
    "## Zadanie 4: Sprawdź, czy liczba jest dodatnia, ujemna czy zerowa"
   ]
  },
  {
   "cell_type": "raw",
   "id": "7af34dfc-d0f0-4f82-a2e7-840109f00843",
   "metadata": {},
   "source": [
    "Cel: Dla każdej liczby w liście sprawdź, czy jest dodatnia, ujemna czy równa zero i wydrukuj odpowiedni komunikat.\n",
    "\n",
    "Lista liczb: [-1, 0, 1, -5, 3]"
   ]
  }
 ],
 "metadata": {
  "kernelspec": {
   "display_name": "Python 3 (ipykernel)",
   "language": "python",
   "name": "python3"
  },
  "language_info": {
   "codemirror_mode": {
    "name": "ipython",
    "version": 3
   },
   "file_extension": ".py",
   "mimetype": "text/x-python",
   "name": "python",
   "nbconvert_exporter": "python",
   "pygments_lexer": "ipython3",
   "version": "3.12.4"
  }
 },
 "nbformat": 4,
 "nbformat_minor": 5
}
