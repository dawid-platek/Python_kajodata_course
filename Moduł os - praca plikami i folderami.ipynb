{
 "cells": [
  {
   "cell_type": "markdown",
   "id": "205e863b-4b4e-4ca8-9146-5e07aff4326a",
   "metadata": {},
   "source": [
    "## Podstawy os"
   ]
  },
  {
   "cell_type": "markdown",
   "id": "c7299e11-9e6c-4fe8-8e27-5e059ece8e8a",
   "metadata": {},
   "source": [
    "Moduł **os** umożliwia pracę z funkcjonalnościami zależnymi od systemu operacyjnego. Przyjrzyjmy się niektórym z najważniejszych funkcji modułu os, które są używane do zarządzania plikami i folderami."
   ]
  },
  {
   "cell_type": "code",
   "execution_count": 2,
   "id": "d9099a8a",
   "metadata": {},
   "outputs": [
    {
     "name": "stdout",
     "output_type": "stream",
     "text": [
      "aktualny folder d:\\IT\\NAUKA\\DATA\\KajoData\\Kurs_Analiza_danych_Python\\Własne\\Python_kajodata_course\n"
     ]
    }
   ],
   "source": [
    "import os\n",
    "\n",
    "current_directory = os.getcwd()\n",
    "print(\"aktualny folder\", current_directory)"
   ]
  },
  {
   "cell_type": "code",
   "execution_count": 22,
   "id": "1e7fb72e",
   "metadata": {},
   "outputs": [
    {
     "name": "stdout",
     "output_type": "stream",
     "text": [
      "Nowy katalog roboczy D:\\IT\\NAUKA_PROJEKTY\\KajoData\\Kurs_Analiza_danych_Python\\Własne\\Python_kajodata_course\\New_catalog\n"
     ]
    }
   ],
   "source": [
    "os.chdir('D:/IT/NAUKA_PROJEKTY/KajoData/Kurs_Analiza_danych_Python/Własne/Python_kajodata_course/New_catalog')\n",
    "print('Nowy katalog roboczy', os.getcwd())"
   ]
  },
  {
   "cell_type": "code",
   "execution_count": null,
   "id": "f659abb3",
   "metadata": {},
   "outputs": [
    {
     "name": "stdout",
     "output_type": "stream",
     "text": [
      "Obecny katalog roboczy d:\\IT\\NAUKA_PROJEKTY\\KajoData\\Kurs_Analiza_danych_Python\\Własne\\Python_kajodata_course\n"
     ]
    }
   ],
   "source": [
    "os.chdir(current_directory)\n",
    "print('Obecny katalog roboczy', os.getcwd())"
   ]
  },
  {
   "cell_type": "markdown",
   "id": "081d946e-9830-48c8-b9c7-b91d8d5477ad",
   "metadata": {},
   "source": []
  },
  {
   "cell_type": "markdown",
   "id": "524e8d8a",
   "metadata": {},
   "source": [
    "## Praca z folderami"
   ]
  },
  {
   "cell_type": "code",
   "execution_count": 19,
   "id": "202f7b4c",
   "metadata": {},
   "outputs": [],
   "source": [
    "# tworzenie\n",
    "os.mkdir('nowy_folder')\n",
    "os.makedirs('nowy folder2/sub folder')"
   ]
  },
  {
   "cell_type": "code",
   "execution_count": 20,
   "id": "7d77a57a",
   "metadata": {},
   "outputs": [],
   "source": [
    "# usuwanie\n",
    "os.rmdir('nowy_folder')\n",
    "os.removedirs('nowy folder2/sub folder')"
   ]
  },
  {
   "cell_type": "markdown",
   "id": "9b514e6d-ab69-4eba-859e-fe0f5c39a954",
   "metadata": {},
   "source": [
    "## Praca z plikami"
   ]
  },
  {
   "cell_type": "code",
   "execution_count": null,
   "id": "e454ea25",
   "metadata": {},
   "outputs": [],
   "source": [
    "os.rename('plik1.txt', 'plik2.txt')"
   ]
  },
  {
   "cell_type": "code",
   "execution_count": 24,
   "id": "52de4acc",
   "metadata": {},
   "outputs": [],
   "source": [
    "os.remove('plik2.txt')"
   ]
  },
  {
   "cell_type": "markdown",
   "id": "f555ecd1-bb5f-4d1f-98fa-68fcd070a75c",
   "metadata": {},
   "source": [
    "## Praca z plikami i folderami"
   ]
  },
  {
   "cell_type": "markdown",
   "id": "72b5c164-c45b-4484-ac51-a931d54ab0da",
   "metadata": {},
   "source": [
    "Często potrzebujesz sprawdzić, czy plik lub katalog istnieje, zanim wykonasz na nim jakąś operację. Do tego służy funkcja os.path.exists(path)."
   ]
  },
  {
   "cell_type": "code",
   "execution_count": 26,
   "id": "ce819226",
   "metadata": {},
   "outputs": [
    {
     "name": "stdout",
     "output_type": "stream",
     "text": [
      "Jest taki folder\n"
     ]
    }
   ],
   "source": [
    "os.mkdir('new_folder')\n",
    "if os.path.exists ('new_folder'):\n",
    "    print('Jest taki folder')\n",
    "else:\n",
    "    print('Nie ma takiego folderu')"
   ]
  },
  {
   "cell_type": "markdown",
   "id": "a2b50b8f-8407-4f09-8b22-ae1932e811ed",
   "metadata": {},
   "source": [
    "Aby uzyskać listę plików i katalogów w danym katalogu, użyj os.listdir(path). Kropka służy do reprezentowania bieżącego katalogu roboczego. Można użyć też 2 kropek dla katalogu nadrzędnego."
   ]
  },
  {
   "cell_type": "code",
   "execution_count": 29,
   "id": "7cb5f42f",
   "metadata": {},
   "outputs": [
    {
     "name": "stdout",
     "output_type": "stream",
     "text": [
      "['.git', '.gitattributes', '.gitignore', 'customers.txt', 'example.txt', 'example_2.txt', 'IF, Pętle, Listy - własne ćwiczenia.ipynb', 'IF, Pętle, Listy - ćwiczenia (zrobione).ipynb', 'IF_i_input.ipynb', 'Importowanie bibliotek - datetime.ipynb', 'Listy - slicing, in i list comprehension.ipynb', 'Listy_podstawy.ipynb', 'Moduł os - praca plikami i folderami.ipynb', 'New_catalog', 'new_folder', 'Podstawowe operacje - ćwiczenia (zrobione).ipynb', 'Podstawy programowania cz 1 - ćwiczenia końcowe.ipynb', 'Praca z plikami - podstawy.ipynb', 'Praca_z_tekstem_podstawy.ipynb', 'Print_i_podstawowe_operacje.ipynb', 'Pętle.ipynb', 'sales.txt', 'Słowniki.ipynb', 'Zmienne_i_typy_danych.ipynb']\n",
      ".git\n",
      ".gitattributes\n",
      ".gitignore\n",
      "customers.txt\n",
      "example.txt\n",
      "example_2.txt\n",
      "IF, Pętle, Listy - własne ćwiczenia.ipynb\n",
      "IF, Pętle, Listy - ćwiczenia (zrobione).ipynb\n",
      "IF_i_input.ipynb\n",
      "Importowanie bibliotek - datetime.ipynb\n",
      "Listy - slicing, in i list comprehension.ipynb\n",
      "Listy_podstawy.ipynb\n",
      "Moduł os - praca plikami i folderami.ipynb\n",
      "New_catalog\n",
      "new_folder\n",
      "Podstawowe operacje - ćwiczenia (zrobione).ipynb\n",
      "Podstawy programowania cz 1 - ćwiczenia końcowe.ipynb\n",
      "Praca z plikami - podstawy.ipynb\n",
      "Praca_z_tekstem_podstawy.ipynb\n",
      "Print_i_podstawowe_operacje.ipynb\n",
      "Pętle.ipynb\n",
      "sales.txt\n",
      "Słowniki.ipynb\n",
      "Zmienne_i_typy_danych.ipynb\n"
     ]
    }
   ],
   "source": [
    "entries = os.listdir('.')\n",
    "print(entries)\n",
    "\n",
    "for e in entries:\n",
    "    print(e)"
   ]
  },
  {
   "cell_type": "markdown",
   "id": "9f193757-37f9-44a6-b2d4-01c5cafc0442",
   "metadata": {},
   "source": [
    "Funkcja os.path.join() z modułu os jest bardzo przydatna, gdy potrzebujesz łączyć ścieżki do plików lub katalogów w sposób, który jest bezpieczny pod względem różnic między systemami operacyjnymi. \n",
    "\n",
    "Funkcja ta automatycznie dodaje odpowiedni separator ścieżki (np. / na Unixach, \\ na Windows), co czyni ją bardzo użyteczną w przenośnym kodzie działającym na różnych platformach."
   ]
  },
  {
   "cell_type": "code",
   "execution_count": 31,
   "id": "06a5d402",
   "metadata": {},
   "outputs": [
    {
     "name": "stdout",
     "output_type": "stream",
     "text": [
      "xyz\n"
     ]
    }
   ],
   "source": [
    "full_path = os.path.join(os.getcwd(),'folder to check','file_to_check.txt')\n",
    "\n",
    "with open(full_path, 'r') as file:\n",
    "    content = file.read()\n",
    "    print(content)"
   ]
  },
  {
   "cell_type": "markdown",
   "id": "72400199-34f5-4c71-9083-1bb3bc322ddf",
   "metadata": {},
   "source": [
    "## Nieco bardziej złożony przykład"
   ]
  },
  {
   "cell_type": "markdown",
   "id": "5ac0466f-05cd-4595-80b0-c188aa8603e4",
   "metadata": {},
   "source": [
    "Napiszmy skrypt, który przeszuka folder i jego subfoldery w poszukiwaniu plików tekstowych (.txt), a następnie wypisze ich ścieżki."
   ]
  },
  {
   "cell_type": "code",
   "execution_count": 33,
   "id": "007a4dd8",
   "metadata": {},
   "outputs": [
    {
     "name": "stdout",
     "output_type": "stream",
     "text": [
      "Current Path: d:\\IT\\NAUKA_PROJEKTY\\KajoData\\Kurs_Analiza_danych_Python\\Własne\\Python_kajodata_course\n",
      "Directories: ['.git', 'folder to check', 'New_catalog', 'new_folder']\n",
      "Files ['.gitattributes', '.gitignore', 'customers.txt', 'example.txt', 'example_2.txt', 'IF, Pętle, Listy - własne ćwiczenia.ipynb', 'IF, Pętle, Listy - ćwiczenia (zrobione).ipynb', 'IF_i_input.ipynb', 'Importowanie bibliotek - datetime.ipynb', 'Listy - slicing, in i list comprehension.ipynb', 'Listy_podstawy.ipynb', 'Moduł os - praca plikami i folderami.ipynb', 'Podstawowe operacje - ćwiczenia (zrobione).ipynb', 'Podstawy programowania cz 1 - ćwiczenia końcowe.ipynb', 'Praca z plikami - podstawy.ipynb', 'Praca_z_tekstem_podstawy.ipynb', 'Print_i_podstawowe_operacje.ipynb', 'Pętle.ipynb', 'sales.txt', 'Słowniki.ipynb', 'Zmienne_i_typy_danych.ipynb']\n",
      "--------------------------\n",
      "Current Path: d:\\IT\\NAUKA_PROJEKTY\\KajoData\\Kurs_Analiza_danych_Python\\Własne\\Python_kajodata_course\\.git\n",
      "Directories: ['hooks', 'info', 'logs', 'objects', 'refs']\n",
      "Files ['COMMIT_EDITMSG', 'config', 'description', 'FETCH_HEAD', 'HEAD', 'index', 'packed-refs']\n",
      "--------------------------\n",
      "Current Path: d:\\IT\\NAUKA_PROJEKTY\\KajoData\\Kurs_Analiza_danych_Python\\Własne\\Python_kajodata_course\\.git\\hooks\n",
      "Directories: []\n",
      "Files ['applypatch-msg.sample', 'commit-msg.sample', 'fsmonitor-watchman.sample', 'post-update.sample', 'pre-applypatch.sample', 'pre-commit.sample', 'pre-merge-commit.sample', 'pre-push.sample', 'pre-rebase.sample', 'pre-receive.sample', 'prepare-commit-msg.sample', 'push-to-checkout.sample', 'sendemail-validate.sample', 'update.sample']\n",
      "--------------------------\n",
      "Current Path: d:\\IT\\NAUKA_PROJEKTY\\KajoData\\Kurs_Analiza_danych_Python\\Własne\\Python_kajodata_course\\.git\\info\n",
      "Directories: []\n",
      "Files ['exclude']\n",
      "--------------------------\n",
      "Current Path: d:\\IT\\NAUKA_PROJEKTY\\KajoData\\Kurs_Analiza_danych_Python\\Własne\\Python_kajodata_course\\.git\\logs\n",
      "Directories: ['refs']\n",
      "Files ['HEAD']\n",
      "--------------------------\n",
      "Current Path: d:\\IT\\NAUKA_PROJEKTY\\KajoData\\Kurs_Analiza_danych_Python\\Własne\\Python_kajodata_course\\.git\\logs\\refs\n",
      "Directories: ['heads', 'remotes']\n",
      "Files []\n",
      "--------------------------\n",
      "Current Path: d:\\IT\\NAUKA_PROJEKTY\\KajoData\\Kurs_Analiza_danych_Python\\Własne\\Python_kajodata_course\\.git\\logs\\refs\\heads\n",
      "Directories: []\n",
      "Files ['main']\n",
      "--------------------------\n",
      "Current Path: d:\\IT\\NAUKA_PROJEKTY\\KajoData\\Kurs_Analiza_danych_Python\\Własne\\Python_kajodata_course\\.git\\logs\\refs\\remotes\n",
      "Directories: ['origin']\n",
      "Files []\n",
      "--------------------------\n",
      "Current Path: d:\\IT\\NAUKA_PROJEKTY\\KajoData\\Kurs_Analiza_danych_Python\\Własne\\Python_kajodata_course\\.git\\logs\\refs\\remotes\\origin\n",
      "Directories: []\n",
      "Files ['HEAD', 'main']\n",
      "--------------------------\n",
      "Current Path: d:\\IT\\NAUKA_PROJEKTY\\KajoData\\Kurs_Analiza_danych_Python\\Własne\\Python_kajodata_course\\.git\\objects\n",
      "Directories: ['05', '0c', '18', '1d', '1e', '24', '2e', '30', '33', '35', '48', '49', '4d', '4f', '53', '5f', '60', '6e', '72', '73', '7d', '82', '99', '9a', 'ab', 'b2', 'd7', 'da', 'f0', 'f6', 'info', 'pack']\n",
      "Files []\n",
      "--------------------------\n",
      "Current Path: d:\\IT\\NAUKA_PROJEKTY\\KajoData\\Kurs_Analiza_danych_Python\\Własne\\Python_kajodata_course\\.git\\objects\\05\n",
      "Directories: []\n",
      "Files ['84cbd067f97cddba643969556d4957c6b29ec3']\n",
      "--------------------------\n",
      "Current Path: d:\\IT\\NAUKA_PROJEKTY\\KajoData\\Kurs_Analiza_danych_Python\\Własne\\Python_kajodata_course\\.git\\objects\\0c\n",
      "Directories: []\n",
      "Files ['8568188a259182140501397f5040f03e546b3b']\n",
      "--------------------------\n",
      "Current Path: d:\\IT\\NAUKA_PROJEKTY\\KajoData\\Kurs_Analiza_danych_Python\\Własne\\Python_kajodata_course\\.git\\objects\\18\n",
      "Directories: []\n",
      "Files ['e003eb55d94b66910005dd145cce75d78a345f']\n",
      "--------------------------\n",
      "Current Path: d:\\IT\\NAUKA_PROJEKTY\\KajoData\\Kurs_Analiza_danych_Python\\Własne\\Python_kajodata_course\\.git\\objects\\1d\n",
      "Directories: []\n",
      "Files ['fac09ee0f708ba1663c387b468e431de61e8bc']\n",
      "--------------------------\n",
      "Current Path: d:\\IT\\NAUKA_PROJEKTY\\KajoData\\Kurs_Analiza_danych_Python\\Własne\\Python_kajodata_course\\.git\\objects\\1e\n",
      "Directories: []\n",
      "Files ['9c39423d8867c56b8c2dc9004fc87e83aabfd9']\n",
      "--------------------------\n",
      "Current Path: d:\\IT\\NAUKA_PROJEKTY\\KajoData\\Kurs_Analiza_danych_Python\\Własne\\Python_kajodata_course\\.git\\objects\\24\n",
      "Directories: []\n",
      "Files ['a08630b59001c612ad6763dcd6a7641810c0f4']\n",
      "--------------------------\n",
      "Current Path: d:\\IT\\NAUKA_PROJEKTY\\KajoData\\Kurs_Analiza_danych_Python\\Własne\\Python_kajodata_course\\.git\\objects\\2e\n",
      "Directories: []\n",
      "Files ['3cc95646f98f8a8d224889f89c80a16abfe139', 'd26f9606b7533c0931a9286ac93ec6ebc3f0d5']\n",
      "--------------------------\n",
      "Current Path: d:\\IT\\NAUKA_PROJEKTY\\KajoData\\Kurs_Analiza_danych_Python\\Własne\\Python_kajodata_course\\.git\\objects\\30\n",
      "Directories: []\n",
      "Files ['a53dcc788bb6d765a2ee4c95a36c572f961ba7']\n",
      "--------------------------\n",
      "Current Path: d:\\IT\\NAUKA_PROJEKTY\\KajoData\\Kurs_Analiza_danych_Python\\Własne\\Python_kajodata_course\\.git\\objects\\33\n",
      "Directories: []\n",
      "Files ['c00342aa1be652f1447c527e97a6d8727538a9']\n",
      "--------------------------\n",
      "Current Path: d:\\IT\\NAUKA_PROJEKTY\\KajoData\\Kurs_Analiza_danych_Python\\Własne\\Python_kajodata_course\\.git\\objects\\35\n",
      "Directories: []\n",
      "Files ['e948ad4068ed467d4de52a88bdc9b457104330']\n",
      "--------------------------\n",
      "Current Path: d:\\IT\\NAUKA_PROJEKTY\\KajoData\\Kurs_Analiza_danych_Python\\Własne\\Python_kajodata_course\\.git\\objects\\48\n",
      "Directories: []\n",
      "Files ['5b7698a369d41a2e35b40257119240fc4de76a']\n",
      "--------------------------\n",
      "Current Path: d:\\IT\\NAUKA_PROJEKTY\\KajoData\\Kurs_Analiza_danych_Python\\Własne\\Python_kajodata_course\\.git\\objects\\49\n",
      "Directories: []\n",
      "Files ['a360ca12ad6836d6efc9ac531ff91e538cb929']\n",
      "--------------------------\n",
      "Current Path: d:\\IT\\NAUKA_PROJEKTY\\KajoData\\Kurs_Analiza_danych_Python\\Własne\\Python_kajodata_course\\.git\\objects\\4d\n",
      "Directories: []\n",
      "Files ['99f215c1d2fd0b5145cb3906a13efadc245e2c']\n",
      "--------------------------\n",
      "Current Path: d:\\IT\\NAUKA_PROJEKTY\\KajoData\\Kurs_Analiza_danych_Python\\Własne\\Python_kajodata_course\\.git\\objects\\4f\n",
      "Directories: []\n",
      "Files ['59805b3b9853d9a796197bec393e7137178ef2']\n",
      "--------------------------\n",
      "Current Path: d:\\IT\\NAUKA_PROJEKTY\\KajoData\\Kurs_Analiza_danych_Python\\Własne\\Python_kajodata_course\\.git\\objects\\53\n",
      "Directories: []\n",
      "Files ['16d39a7c8a9b36a0569201a1119ea028b6fa36']\n",
      "--------------------------\n",
      "Current Path: d:\\IT\\NAUKA_PROJEKTY\\KajoData\\Kurs_Analiza_danych_Python\\Własne\\Python_kajodata_course\\.git\\objects\\5f\n",
      "Directories: []\n",
      "Files ['c0b56dac89268064c777c4f65c3d367bd47f71', 'e43dccb1c084e3d9e2ef67238a913c245e0036']\n",
      "--------------------------\n",
      "Current Path: d:\\IT\\NAUKA_PROJEKTY\\KajoData\\Kurs_Analiza_danych_Python\\Własne\\Python_kajodata_course\\.git\\objects\\60\n",
      "Directories: []\n",
      "Files ['c15abbd2d407439fa7090f0a28e7bda8474015']\n",
      "--------------------------\n",
      "Current Path: d:\\IT\\NAUKA_PROJEKTY\\KajoData\\Kurs_Analiza_danych_Python\\Własne\\Python_kajodata_course\\.git\\objects\\6e\n",
      "Directories: []\n",
      "Files ['3702b9f17f9990050179682c9d924df562d394']\n",
      "--------------------------\n",
      "Current Path: d:\\IT\\NAUKA_PROJEKTY\\KajoData\\Kurs_Analiza_danych_Python\\Własne\\Python_kajodata_course\\.git\\objects\\72\n",
      "Directories: []\n",
      "Files ['cf4c64eafad15fc6786f97ea3cecd818cc6999']\n",
      "--------------------------\n",
      "Current Path: d:\\IT\\NAUKA_PROJEKTY\\KajoData\\Kurs_Analiza_danych_Python\\Własne\\Python_kajodata_course\\.git\\objects\\73\n",
      "Directories: []\n",
      "Files ['5c1766058a81510eae87222bcbd3f3d694f814']\n",
      "--------------------------\n",
      "Current Path: d:\\IT\\NAUKA_PROJEKTY\\KajoData\\Kurs_Analiza_danych_Python\\Własne\\Python_kajodata_course\\.git\\objects\\7d\n",
      "Directories: []\n",
      "Files ['3a375653814644ad7f0e915361112be8d5fdd9']\n",
      "--------------------------\n",
      "Current Path: d:\\IT\\NAUKA_PROJEKTY\\KajoData\\Kurs_Analiza_danych_Python\\Własne\\Python_kajodata_course\\.git\\objects\\82\n",
      "Directories: []\n",
      "Files ['3b0263d9064ebc712ece9919f61f3483f66a91']\n",
      "--------------------------\n",
      "Current Path: d:\\IT\\NAUKA_PROJEKTY\\KajoData\\Kurs_Analiza_danych_Python\\Własne\\Python_kajodata_course\\.git\\objects\\99\n",
      "Directories: []\n",
      "Files ['0e8a7acc4545722da3c0205fc89f1c47d77a82']\n",
      "--------------------------\n",
      "Current Path: d:\\IT\\NAUKA_PROJEKTY\\KajoData\\Kurs_Analiza_danych_Python\\Własne\\Python_kajodata_course\\.git\\objects\\9a\n",
      "Directories: []\n",
      "Files ['8b1601132e7b94cdbb5cdaaf96a11f5c115b6a']\n",
      "--------------------------\n",
      "Current Path: d:\\IT\\NAUKA_PROJEKTY\\KajoData\\Kurs_Analiza_danych_Python\\Własne\\Python_kajodata_course\\.git\\objects\\ab\n",
      "Directories: []\n",
      "Files ['0618bb12ef071f4be6b90200774cf699f4f824']\n",
      "--------------------------\n",
      "Current Path: d:\\IT\\NAUKA_PROJEKTY\\KajoData\\Kurs_Analiza_danych_Python\\Własne\\Python_kajodata_course\\.git\\objects\\b2\n",
      "Directories: []\n",
      "Files ['d41cb519cb69c553ad3b073120f7e91284b69c']\n",
      "--------------------------\n",
      "Current Path: d:\\IT\\NAUKA_PROJEKTY\\KajoData\\Kurs_Analiza_danych_Python\\Własne\\Python_kajodata_course\\.git\\objects\\d7\n",
      "Directories: []\n",
      "Files ['327244808ed90bef724e632a98a5de5be30cd4']\n",
      "--------------------------\n",
      "Current Path: d:\\IT\\NAUKA_PROJEKTY\\KajoData\\Kurs_Analiza_danych_Python\\Własne\\Python_kajodata_course\\.git\\objects\\da\n",
      "Directories: []\n",
      "Files ['9affbd447ab461f03155b0d240c822ada68eee']\n",
      "--------------------------\n",
      "Current Path: d:\\IT\\NAUKA_PROJEKTY\\KajoData\\Kurs_Analiza_danych_Python\\Własne\\Python_kajodata_course\\.git\\objects\\f0\n",
      "Directories: []\n",
      "Files ['a32674df7ae59c31d239914525fb137fa34a3c']\n",
      "--------------------------\n",
      "Current Path: d:\\IT\\NAUKA_PROJEKTY\\KajoData\\Kurs_Analiza_danych_Python\\Własne\\Python_kajodata_course\\.git\\objects\\f6\n",
      "Directories: []\n",
      "Files ['5b4275096b966302a2f5885d0aa0bf565c0cb6']\n",
      "--------------------------\n",
      "Current Path: d:\\IT\\NAUKA_PROJEKTY\\KajoData\\Kurs_Analiza_danych_Python\\Własne\\Python_kajodata_course\\.git\\objects\\info\n",
      "Directories: []\n",
      "Files []\n",
      "--------------------------\n",
      "Current Path: d:\\IT\\NAUKA_PROJEKTY\\KajoData\\Kurs_Analiza_danych_Python\\Własne\\Python_kajodata_course\\.git\\objects\\pack\n",
      "Directories: []\n",
      "Files ['pack-5553e58aad859b3e3e4e277ccc5e03b9833344fe.idx', 'pack-5553e58aad859b3e3e4e277ccc5e03b9833344fe.pack', 'pack-5553e58aad859b3e3e4e277ccc5e03b9833344fe.rev']\n",
      "--------------------------\n",
      "Current Path: d:\\IT\\NAUKA_PROJEKTY\\KajoData\\Kurs_Analiza_danych_Python\\Własne\\Python_kajodata_course\\.git\\refs\n",
      "Directories: ['heads', 'remotes', 'tags']\n",
      "Files []\n",
      "--------------------------\n",
      "Current Path: d:\\IT\\NAUKA_PROJEKTY\\KajoData\\Kurs_Analiza_danych_Python\\Własne\\Python_kajodata_course\\.git\\refs\\heads\n",
      "Directories: []\n",
      "Files ['main']\n",
      "--------------------------\n",
      "Current Path: d:\\IT\\NAUKA_PROJEKTY\\KajoData\\Kurs_Analiza_danych_Python\\Własne\\Python_kajodata_course\\.git\\refs\\remotes\n",
      "Directories: ['origin']\n",
      "Files []\n",
      "--------------------------\n",
      "Current Path: d:\\IT\\NAUKA_PROJEKTY\\KajoData\\Kurs_Analiza_danych_Python\\Własne\\Python_kajodata_course\\.git\\refs\\remotes\\origin\n",
      "Directories: []\n",
      "Files ['HEAD', 'main']\n",
      "--------------------------\n",
      "Current Path: d:\\IT\\NAUKA_PROJEKTY\\KajoData\\Kurs_Analiza_danych_Python\\Własne\\Python_kajodata_course\\.git\\refs\\tags\n",
      "Directories: []\n",
      "Files []\n",
      "--------------------------\n",
      "Current Path: d:\\IT\\NAUKA_PROJEKTY\\KajoData\\Kurs_Analiza_danych_Python\\Własne\\Python_kajodata_course\\folder to check\n",
      "Directories: []\n",
      "Files ['file_to_check.txt']\n",
      "--------------------------\n",
      "Current Path: d:\\IT\\NAUKA_PROJEKTY\\KajoData\\Kurs_Analiza_danych_Python\\Własne\\Python_kajodata_course\\New_catalog\n",
      "Directories: []\n",
      "Files []\n",
      "--------------------------\n",
      "Current Path: d:\\IT\\NAUKA_PROJEKTY\\KajoData\\Kurs_Analiza_danych_Python\\Własne\\Python_kajodata_course\\new_folder\n",
      "Directories: []\n",
      "Files []\n",
      "--------------------------\n"
     ]
    }
   ],
   "source": [
    "for dirpath, dirnames, filenames in os.walk(os.getcwd()):\n",
    "    print('Current Path:', dirpath)\n",
    "    print('Directories:' , dirnames)\n",
    "    print('Files' , filenames)\n",
    "    print('--------------------------')"
   ]
  },
  {
   "cell_type": "markdown",
   "id": "2345f1a6",
   "metadata": {},
   "source": [
    "Napiszmy skrypt, który przeszuka folder i jego subfoldery w poszukiwaniu plików tekstowych (.txt), a następnie wypisze ich ścieżki."
   ]
  },
  {
   "cell_type": "code",
   "execution_count": 3,
   "id": "183aa41e",
   "metadata": {},
   "outputs": [
    {
     "name": "stdout",
     "output_type": "stream",
     "text": [
      "d:\\IT\\NAUKA\\DATA\\KajoData\\Kurs_Analiza_danych_Python\\Własne\\Python_kajodata_course\\customers.txt\n",
      "d:\\IT\\NAUKA\\DATA\\KajoData\\Kurs_Analiza_danych_Python\\Własne\\Python_kajodata_course\\example.txt\n",
      "d:\\IT\\NAUKA\\DATA\\KajoData\\Kurs_Analiza_danych_Python\\Własne\\Python_kajodata_course\\example_2.txt\n",
      "d:\\IT\\NAUKA\\DATA\\KajoData\\Kurs_Analiza_danych_Python\\Własne\\Python_kajodata_course\\sales.txt\n",
      "d:\\IT\\NAUKA\\DATA\\KajoData\\Kurs_Analiza_danych_Python\\Własne\\Python_kajodata_course\\folder to check\\file_to_check.txt\n"
     ]
    }
   ],
   "source": [
    "c = os.getcwd()\n",
    "for dirpath, dirnames, filenames in os.walk(c):\n",
    "    for file in filenames:\n",
    "        if file.endswith('.txt'):\n",
    "            print(os.path.join(dirpath, file))"
   ]
  },
  {
   "cell_type": "code",
   "execution_count": null,
   "id": "a5b2db87",
   "metadata": {},
   "outputs": [],
   "source": []
  }
 ],
 "metadata": {
  "kernelspec": {
   "display_name": "Python 3",
   "language": "python",
   "name": "python3"
  },
  "language_info": {
   "codemirror_mode": {
    "name": "ipython",
    "version": 3
   },
   "file_extension": ".py",
   "mimetype": "text/x-python",
   "name": "python",
   "nbconvert_exporter": "python",
   "pygments_lexer": "ipython3",
   "version": "3.13.0"
  }
 },
 "nbformat": 4,
 "nbformat_minor": 5
}
