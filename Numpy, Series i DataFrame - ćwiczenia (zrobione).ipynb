{
 "cells": [
  {
   "cell_type": "markdown",
   "id": "78c5936b-539e-442b-9e44-30df9972ee03",
   "metadata": {},
   "source": [
    "### 1. Numpy array\n",
    "\n",
    "Wyciągnij średnią z numpy array zawierającą co siódmą liczbę od 15 do 100, korzystając z metod arange() i mean(). \n",
    "\n",
    "Nie licząc importu numpy spróbuj to zrobić w jednej linijce kodu."
   ]
  },
  {
   "cell_type": "markdown",
   "id": "9e2ade59-2f30-4961-acf1-65514df4eef4",
   "metadata": {},
   "source": [
    "#### Rozwiązanie"
   ]
  },
  {
   "cell_type": "code",
   "execution_count": 2,
   "id": "3d5b6e09-84d5-416e-a508-455ab8978ca2",
   "metadata": {},
   "outputs": [
    {
     "name": "stdout",
     "output_type": "stream",
     "text": [
      "57.0\n"
     ]
    }
   ],
   "source": [
    "import numpy as np\n",
    "\n",
    "print(np.arange(15, 100, 7).mean())"
   ]
  },
  {
   "cell_type": "markdown",
   "id": "87e88426-d842-46af-aaaa-a19cd6c171d4",
   "metadata": {},
   "source": [
    "### 2. Series\n",
    "\n",
    "Stwórz Series z numpy array zawierającego liczby od 1 do 100 a następnie wyfiltruj Series tak by uzyskać tylko liczby podzielne przez 7."
   ]
  },
  {
   "cell_type": "markdown",
   "id": "9cc79140-4405-428c-8aa1-397964d5f8bc",
   "metadata": {},
   "source": [
    "#### Rozwiązanie"
   ]
  },
  {
   "cell_type": "code",
   "execution_count": 1,
   "id": "e8886628-8553-4247-9efe-bc0b67fa0834",
   "metadata": {},
   "outputs": [
    {
     "name": "stdout",
     "output_type": "stream",
     "text": [
      "6      7\n",
      "13    14\n",
      "20    21\n",
      "27    28\n",
      "34    35\n",
      "41    42\n",
      "48    49\n",
      "55    56\n",
      "62    63\n",
      "69    70\n",
      "76    77\n",
      "83    84\n",
      "90    91\n",
      "97    98\n",
      "dtype: int64\n"
     ]
    }
   ],
   "source": [
    "import numpy as np\n",
    "import pandas as pd\n",
    "\n",
    "s = pd.Series(np.arange(1, 100))\n",
    "print(s[s % 7 == 0])"
   ]
  },
  {
   "cell_type": "markdown",
   "id": "f4213a54-ee8b-4bea-81dd-5aa8f81dd61f",
   "metadata": {},
   "source": [
    "### 3. DataFrame\n",
    "\n",
    "Korzystając z danych poniżej stwórz DataFrame i dodaj kolumnę z wskaźnikiem BMI. Formuła na BMI to weight / ((height/100) ** 2). Podaj najwyższe BMI."
   ]
  },
  {
   "cell_type": "code",
   "execution_count": 4,
   "id": "7a737af0-cd8e-4473-97a7-c29ef094f1ed",
   "metadata": {},
   "outputs": [],
   "source": [
    "people = {\n",
    "    'name': ['Alice', 'Bob', 'Charlie', 'David', 'Eve', 'Faythe', 'Grace', 'Heidi', 'Ivan', 'Judy'],\n",
    "    'weight_kg': [70, 55, 90, 65, 80, 50, 77, 68, 85, 60],\n",
    "    'height_cm': [175, 160, 185, 170, 180, 155, 178, 168, 182, 165]\n",
    "}"
   ]
  },
  {
   "cell_type": "markdown",
   "id": "e622c5ac-aa7d-45ef-85a0-c0308fc2edb1",
   "metadata": {},
   "source": [
    "#### Rozwiązanie"
   ]
  },
  {
   "cell_type": "code",
   "execution_count": 7,
   "id": "711d5d7c-5fd0-4fa2-b5dd-aaee78e82ced",
   "metadata": {},
   "outputs": [
    {
     "name": "stdout",
     "output_type": "stream",
     "text": [
      "26.296566837107374\n"
     ]
    }
   ],
   "source": [
    "import pandas as pd\n",
    "\n",
    "df_1 = pd.DataFrame(people)\n",
    "df_1['bmi'] = (df_1['weight_kg'] / ((df_1['height_cm'] / 100 ) ** 2))\n",
    "print(df_1['bmi'].max())"
   ]
  }
 ],
 "metadata": {
  "kernelspec": {
   "display_name": "my_env_1",
   "language": "python",
   "name": "python3"
  },
  "language_info": {
   "codemirror_mode": {
    "name": "ipython",
    "version": 3
   },
   "file_extension": ".py",
   "mimetype": "text/x-python",
   "name": "python",
   "nbconvert_exporter": "python",
   "pygments_lexer": "ipython3",
   "version": "3.13.1"
  }
 },
 "nbformat": 4,
 "nbformat_minor": 5
}
