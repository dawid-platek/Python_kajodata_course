{
 "cells": [
  {
   "cell_type": "markdown",
   "id": "3d109258-57a2-47fc-b463-74c0f3496f78",
   "metadata": {},
   "source": [
    "## Ćwiczenia dotyczące grupowania i czyszczenia danych\n",
    "\n",
    "Poniżej znajdziesz cztery ćwiczenia, które pomogą Ci przećwiczyć umiejętności związane z grupowaniem i czyszczeniem danych."
   ]
  },
  {
   "cell_type": "markdown",
   "id": "72cf98e2-9bc5-4147-8015-261d64acb04d",
   "metadata": {},
   "source": [
    "### Ćwiczenie 1: Czyszczenie danych tekstowych\n",
    "\n",
    "Zaimportuj poniższy przykładowy zbiór danych i wyczyść kolumnę Product poprzez usunięcie zbędnych spacji oraz zamianę tekstu na małe litery."
   ]
  },
  {
   "cell_type": "code",
   "execution_count": 2,
   "id": "82e71852-6ca1-4a8c-a8fe-ac9c32748dbd",
   "metadata": {},
   "outputs": [],
   "source": [
    "import pandas as pd"
   ]
  },
  {
   "cell_type": "code",
   "execution_count": 3,
   "id": "e35c81cd-8fe8-4cfa-bd33-c018d8e513d7",
   "metadata": {},
   "outputs": [],
   "source": [
    "data1 = {\n",
    "    'Product': ['  Apple  ', ' Banana', '  ORANGE ', 'Strawberry', 'blueberry '],\n",
    "    'Quantity': [10, 15, 8, 20, 5],\n",
    "    'Price': [1.5, 0.5, 0.75, 2.0, 1.0]\n",
    "}\n",
    "df1 = pd.DataFrame(data1)"
   ]
  },
  {
   "cell_type": "code",
   "execution_count": 5,
   "id": "ebb1ca30",
   "metadata": {},
   "outputs": [
    {
     "data": {
      "text/html": [
       "<div>\n",
       "<style scoped>\n",
       "    .dataframe tbody tr th:only-of-type {\n",
       "        vertical-align: middle;\n",
       "    }\n",
       "\n",
       "    .dataframe tbody tr th {\n",
       "        vertical-align: top;\n",
       "    }\n",
       "\n",
       "    .dataframe thead th {\n",
       "        text-align: right;\n",
       "    }\n",
       "</style>\n",
       "<table border=\"1\" class=\"dataframe\">\n",
       "  <thead>\n",
       "    <tr style=\"text-align: right;\">\n",
       "      <th></th>\n",
       "      <th>Product</th>\n",
       "      <th>Quantity</th>\n",
       "      <th>Price</th>\n",
       "    </tr>\n",
       "  </thead>\n",
       "  <tbody>\n",
       "    <tr>\n",
       "      <th>0</th>\n",
       "      <td>apple</td>\n",
       "      <td>10</td>\n",
       "      <td>1.50</td>\n",
       "    </tr>\n",
       "    <tr>\n",
       "      <th>1</th>\n",
       "      <td>banana</td>\n",
       "      <td>15</td>\n",
       "      <td>0.50</td>\n",
       "    </tr>\n",
       "    <tr>\n",
       "      <th>2</th>\n",
       "      <td>orange</td>\n",
       "      <td>8</td>\n",
       "      <td>0.75</td>\n",
       "    </tr>\n",
       "    <tr>\n",
       "      <th>3</th>\n",
       "      <td>strawberry</td>\n",
       "      <td>20</td>\n",
       "      <td>2.00</td>\n",
       "    </tr>\n",
       "    <tr>\n",
       "      <th>4</th>\n",
       "      <td>blueberry</td>\n",
       "      <td>5</td>\n",
       "      <td>1.00</td>\n",
       "    </tr>\n",
       "  </tbody>\n",
       "</table>\n",
       "</div>"
      ],
      "text/plain": [
       "      Product  Quantity  Price\n",
       "0       apple        10   1.50\n",
       "1      banana        15   0.50\n",
       "2      orange         8   0.75\n",
       "3  strawberry        20   2.00\n",
       "4   blueberry         5   1.00"
      ]
     },
     "execution_count": 5,
     "metadata": {},
     "output_type": "execute_result"
    }
   ],
   "source": [
    "df1['Product'] = df1['Product'].str.strip().str.lower()\n",
    "df1"
   ]
  },
  {
   "cell_type": "markdown",
   "id": "d8d37635-312a-4b66-9da6-e5c998bf42f7",
   "metadata": {},
   "source": [
    "### Ćwiczenie 2: Usuwanie duplikatów\n",
    "\n",
    "Zaimportuj poniższy przykładowy zbiór danych i usuń duplikaty na podstawie kolumn Product i Store."
   ]
  },
  {
   "cell_type": "code",
   "execution_count": 6,
   "id": "9085266e-d026-4cd5-a05d-e6795a7c5195",
   "metadata": {},
   "outputs": [],
   "source": [
    "data2 = {\n",
    "    'Product': ['Apple', 'Banana', 'Orange', 'Apple', 'Banana'],\n",
    "    'Store': ['Store2', 'Store1', 'Store1', 'Store2', 'Store2'],\n",
    "    'Quantity': [10, 20, 10, 10, 20]\n",
    "}\n",
    "df2 = pd.DataFrame(data2)"
   ]
  },
  {
   "cell_type": "code",
   "execution_count": 8,
   "id": "438e5191",
   "metadata": {},
   "outputs": [
    {
     "data": {
      "text/html": [
       "<div>\n",
       "<style scoped>\n",
       "    .dataframe tbody tr th:only-of-type {\n",
       "        vertical-align: middle;\n",
       "    }\n",
       "\n",
       "    .dataframe tbody tr th {\n",
       "        vertical-align: top;\n",
       "    }\n",
       "\n",
       "    .dataframe thead th {\n",
       "        text-align: right;\n",
       "    }\n",
       "</style>\n",
       "<table border=\"1\" class=\"dataframe\">\n",
       "  <thead>\n",
       "    <tr style=\"text-align: right;\">\n",
       "      <th></th>\n",
       "      <th>Product</th>\n",
       "      <th>Store</th>\n",
       "      <th>Quantity</th>\n",
       "    </tr>\n",
       "  </thead>\n",
       "  <tbody>\n",
       "    <tr>\n",
       "      <th>0</th>\n",
       "      <td>Apple</td>\n",
       "      <td>Store2</td>\n",
       "      <td>10</td>\n",
       "    </tr>\n",
       "    <tr>\n",
       "      <th>1</th>\n",
       "      <td>Banana</td>\n",
       "      <td>Store1</td>\n",
       "      <td>20</td>\n",
       "    </tr>\n",
       "    <tr>\n",
       "      <th>2</th>\n",
       "      <td>Orange</td>\n",
       "      <td>Store1</td>\n",
       "      <td>10</td>\n",
       "    </tr>\n",
       "    <tr>\n",
       "      <th>4</th>\n",
       "      <td>Banana</td>\n",
       "      <td>Store2</td>\n",
       "      <td>20</td>\n",
       "    </tr>\n",
       "  </tbody>\n",
       "</table>\n",
       "</div>"
      ],
      "text/plain": [
       "  Product   Store  Quantity\n",
       "0   Apple  Store2        10\n",
       "1  Banana  Store1        20\n",
       "2  Orange  Store1        10\n",
       "4  Banana  Store2        20"
      ]
     },
     "execution_count": 8,
     "metadata": {},
     "output_type": "execute_result"
    }
   ],
   "source": [
    "df2 = df2.drop_duplicates(subset=['Product', 'Store'])\n",
    "df2"
   ]
  },
  {
   "cell_type": "markdown",
   "id": "8197dd92-f59c-4d51-801b-660196fd4f20",
   "metadata": {},
   "source": [
    "### Ćwiczenie 3: Grupowanie i agregacja danych\n",
    "\n",
    "Zaimportuj poniższy przykładowy zbiór danych i pogrupuj dane według kolumny Store, a następnie oblicz sumaryczną ilość (Quantity) i średnią cenę (Price) w każdej grupie."
   ]
  },
  {
   "cell_type": "code",
   "execution_count": 10,
   "id": "8d1944ea-76b1-4318-9d16-3f4207f406d1",
   "metadata": {},
   "outputs": [],
   "source": [
    "data3 = {\n",
    "    'Product': ['Apple', 'Banana', 'Orange', 'Strawberry', 'Blueberry'],\n",
    "    'Store': ['Store1', 'Store1', 'Store2', 'Store2', 'Store2'],\n",
    "    'Quantity': [10, 20, 15, 5, 10],\n",
    "    'Price': [1.5, 0.5, 0.75, 2.0, 1.0]\n",
    "}\n",
    "df3 = pd.DataFrame(data3)"
   ]
  },
  {
   "cell_type": "code",
   "execution_count": 12,
   "id": "ce9fa71d",
   "metadata": {},
   "outputs": [
    {
     "data": {
      "text/html": [
       "<div>\n",
       "<style scoped>\n",
       "    .dataframe tbody tr th:only-of-type {\n",
       "        vertical-align: middle;\n",
       "    }\n",
       "\n",
       "    .dataframe tbody tr th {\n",
       "        vertical-align: top;\n",
       "    }\n",
       "\n",
       "    .dataframe thead th {\n",
       "        text-align: right;\n",
       "    }\n",
       "</style>\n",
       "<table border=\"1\" class=\"dataframe\">\n",
       "  <thead>\n",
       "    <tr style=\"text-align: right;\">\n",
       "      <th></th>\n",
       "      <th>Quantity</th>\n",
       "      <th>Average Price</th>\n",
       "    </tr>\n",
       "    <tr>\n",
       "      <th>Store</th>\n",
       "      <th></th>\n",
       "      <th></th>\n",
       "    </tr>\n",
       "  </thead>\n",
       "  <tbody>\n",
       "    <tr>\n",
       "      <th>Store1</th>\n",
       "      <td>30</td>\n",
       "      <td>1.00</td>\n",
       "    </tr>\n",
       "    <tr>\n",
       "      <th>Store2</th>\n",
       "      <td>30</td>\n",
       "      <td>1.25</td>\n",
       "    </tr>\n",
       "  </tbody>\n",
       "</table>\n",
       "</div>"
      ],
      "text/plain": [
       "        Quantity  Average Price\n",
       "Store                          \n",
       "Store1        30           1.00\n",
       "Store2        30           1.25"
      ]
     },
     "execution_count": 12,
     "metadata": {},
     "output_type": "execute_result"
    }
   ],
   "source": [
    "group_df3 = df3.groupby('Store').agg({'Quantity': 'sum', 'Price': 'mean'})\n",
    "group_df3 = group_df3.rename(columns={'Price': 'Average Price'})\n",
    "group_df3"
   ]
  }
 ],
 "metadata": {
  "kernelspec": {
   "display_name": "my_env_1",
   "language": "python",
   "name": "python3"
  },
  "language_info": {
   "codemirror_mode": {
    "name": "ipython",
    "version": 3
   },
   "file_extension": ".py",
   "mimetype": "text/x-python",
   "name": "python",
   "nbconvert_exporter": "python",
   "pygments_lexer": "ipython3",
   "version": "3.13.1"
  }
 },
 "nbformat": 4,
 "nbformat_minor": 5
}
