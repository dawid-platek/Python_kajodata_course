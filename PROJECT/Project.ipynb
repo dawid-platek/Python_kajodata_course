{
 "cells": [
  {
   "cell_type": "markdown",
   "metadata": {},
   "source": [
    "# Requirements"
   ]
  },
  {
   "cell_type": "markdown",
   "metadata": {},
   "source": [
    "1. Which product is returned most often?\n",
    "2. High rating = customer returns?\n",
    "3. Sales trend over months.\n",
    "4. Shipping costs vs sales."
   ]
  },
  {
   "cell_type": "markdown",
   "metadata": {},
   "source": [
    "## Preparation"
   ]
  },
  {
   "cell_type": "code",
   "execution_count": 1,
   "metadata": {},
   "outputs": [],
   "source": [
    "import pandas as pd\n",
    "import matplotlib.pyplot as plt\n",
    "import seaborn as sns\n",
    "import os"
   ]
  },
  {
   "cell_type": "code",
   "execution_count": 2,
   "metadata": {},
   "outputs": [
    {
     "name": "stdout",
     "output_type": "stream",
     "text": [
      "['Costs.xlsx', 'orders.csv', 'order_positions.csv', 'order_ratings.csv', 'order_returns.csv', 'products.csv', 'product_groups.csv']\n"
     ]
    }
   ],
   "source": [
    "source_folder  = 'Source Data'\n",
    "print(os.listdir(source_folder))"
   ]
  },
  {
   "cell_type": "markdown",
   "metadata": {},
   "source": [
    "## Costs"
   ]
  },
  {
   "cell_type": "code",
   "execution_count": 3,
   "metadata": {},
   "outputs": [
    {
     "name": "stdout",
     "output_type": "stream",
     "text": [
      "<class 'pandas.core.frame.DataFrame'>\n",
      "RangeIndex: 16 entries, 0 to 15\n",
      "Data columns (total 3 columns):\n",
      " #   Column         Non-Null Count  Dtype \n",
      "---  ------         --------------  ----- \n",
      " 0   year           16 non-null     object\n",
      " 1   ship           16 non-null     object\n",
      " 2   cost_forecast  16 non-null     int64 \n",
      "dtypes: int64(1), object(2)\n",
      "memory usage: 516.0+ bytes\n",
      "None\n"
     ]
    },
    {
     "data": {
      "text/html": [
       "<div>\n",
       "<style scoped>\n",
       "    .dataframe tbody tr th:only-of-type {\n",
       "        vertical-align: middle;\n",
       "    }\n",
       "\n",
       "    .dataframe tbody tr th {\n",
       "        vertical-align: top;\n",
       "    }\n",
       "\n",
       "    .dataframe thead th {\n",
       "        text-align: right;\n",
       "    }\n",
       "</style>\n",
       "<table border=\"1\" class=\"dataframe\">\n",
       "  <thead>\n",
       "    <tr style=\"text-align: right;\">\n",
       "      <th></th>\n",
       "      <th>year</th>\n",
       "      <th>ship</th>\n",
       "      <th>cost_forecast</th>\n",
       "    </tr>\n",
       "  </thead>\n",
       "  <tbody>\n",
       "    <tr>\n",
       "      <th>0</th>\n",
       "      <td>Y2018</td>\n",
       "      <td>First Class</td>\n",
       "      <td>70000</td>\n",
       "    </tr>\n",
       "    <tr>\n",
       "      <th>1</th>\n",
       "      <td>Y2018</td>\n",
       "      <td>Same Day</td>\n",
       "      <td>30000</td>\n",
       "    </tr>\n",
       "    <tr>\n",
       "      <th>2</th>\n",
       "      <td>Y2018</td>\n",
       "      <td>Second Class</td>\n",
       "      <td>70000</td>\n",
       "    </tr>\n",
       "    <tr>\n",
       "      <th>3</th>\n",
       "      <td>Y2018</td>\n",
       "      <td>Standard Class</td>\n",
       "      <td>300000</td>\n",
       "    </tr>\n",
       "    <tr>\n",
       "      <th>4</th>\n",
       "      <td>Y2019</td>\n",
       "      <td>First Class</td>\n",
       "      <td>70000</td>\n",
       "    </tr>\n",
       "  </tbody>\n",
       "</table>\n",
       "</div>"
      ],
      "text/plain": [
       "    year            ship  cost_forecast\n",
       "0  Y2018     First Class          70000\n",
       "1  Y2018        Same Day          30000\n",
       "2  Y2018    Second Class          70000\n",
       "3  Y2018  Standard Class         300000\n",
       "4  Y2019     First Class          70000"
      ]
     },
     "execution_count": 3,
     "metadata": {},
     "output_type": "execute_result"
    }
   ],
   "source": [
    "df_costs = pd.read_excel(os.path.join(source_folder, 'Costs.xlsx'), sheet_name='cost_forecast')\n",
    "print(df_costs.info())\n",
    "df_costs.head()"
   ]
  },
  {
   "cell_type": "markdown",
   "metadata": {},
   "source": [
    "## Orders"
   ]
  },
  {
   "cell_type": "code",
   "execution_count": 4,
   "metadata": {},
   "outputs": [
    {
     "name": "stdout",
     "output_type": "stream",
     "text": [
      "<class 'pandas.core.frame.DataFrame'>\n",
      "RangeIndex: 5009 entries, 0 to 5008\n",
      "Data columns (total 10 columns):\n",
      " #   Column             Non-Null Count  Dtype \n",
      "---  ------             --------------  ----- \n",
      " 0   order_id           5009 non-null   int64 \n",
      " 1   customer_id        5009 non-null   int64 \n",
      " 2   order_date         5009 non-null   object\n",
      " 3   shipping_date      5009 non-null   object\n",
      " 4   shipping_mode      5009 non-null   object\n",
      " 5   delivery_country   5009 non-null   object\n",
      " 6   delivery_city      5009 non-null   object\n",
      " 7   delivery_state     5009 non-null   object\n",
      " 8   delivery_zip_code  5009 non-null   int64 \n",
      " 9   return             5009 non-null   int64 \n",
      "dtypes: int64(4), object(6)\n",
      "memory usage: 391.5+ KB\n",
      "None\n"
     ]
    },
    {
     "data": {
      "text/html": [
       "<div>\n",
       "<style scoped>\n",
       "    .dataframe tbody tr th:only-of-type {\n",
       "        vertical-align: middle;\n",
       "    }\n",
       "\n",
       "    .dataframe tbody tr th {\n",
       "        vertical-align: top;\n",
       "    }\n",
       "\n",
       "    .dataframe thead th {\n",
       "        text-align: right;\n",
       "    }\n",
       "</style>\n",
       "<table border=\"1\" class=\"dataframe\">\n",
       "  <thead>\n",
       "    <tr style=\"text-align: right;\">\n",
       "      <th></th>\n",
       "      <th>order_id</th>\n",
       "      <th>customer_id</th>\n",
       "      <th>order_date</th>\n",
       "      <th>shipping_date</th>\n",
       "      <th>shipping_mode</th>\n",
       "      <th>delivery_country</th>\n",
       "      <th>delivery_city</th>\n",
       "      <th>delivery_state</th>\n",
       "      <th>delivery_zip_code</th>\n",
       "      <th>return</th>\n",
       "    </tr>\n",
       "  </thead>\n",
       "  <tbody>\n",
       "    <tr>\n",
       "      <th>0</th>\n",
       "      <td>328</td>\n",
       "      <td>166</td>\n",
       "      <td>04.12.2020</td>\n",
       "      <td>07.12.2020</td>\n",
       "      <td>Second Class</td>\n",
       "      <td>United States</td>\n",
       "      <td>Henderson</td>\n",
       "      <td>Kentucky</td>\n",
       "      <td>42420</td>\n",
       "      <td>37</td>\n",
       "    </tr>\n",
       "    <tr>\n",
       "      <th>1</th>\n",
       "      <td>329</td>\n",
       "      <td>262</td>\n",
       "      <td>08.07.2020</td>\n",
       "      <td>12.07.2020</td>\n",
       "      <td>Second Class</td>\n",
       "      <td>United States</td>\n",
       "      <td>Los Angeles</td>\n",
       "      <td>California</td>\n",
       "      <td>90036</td>\n",
       "      <td>1</td>\n",
       "    </tr>\n",
       "    <tr>\n",
       "      <th>2</th>\n",
       "      <td>330</td>\n",
       "      <td>728</td>\n",
       "      <td>06.11.2019</td>\n",
       "      <td>13.11.2019</td>\n",
       "      <td>Standard Class</td>\n",
       "      <td>United States</td>\n",
       "      <td>Fort Lauderdale</td>\n",
       "      <td>Florida</td>\n",
       "      <td>33311</td>\n",
       "      <td>47</td>\n",
       "    </tr>\n",
       "    <tr>\n",
       "      <th>3</th>\n",
       "      <td>331</td>\n",
       "      <td>111</td>\n",
       "      <td>05.07.2018</td>\n",
       "      <td>10.07.2018</td>\n",
       "      <td>Standard Class</td>\n",
       "      <td>United States</td>\n",
       "      <td>Los Angeles</td>\n",
       "      <td>California</td>\n",
       "      <td>90032</td>\n",
       "      <td>7</td>\n",
       "    </tr>\n",
       "    <tr>\n",
       "      <th>4</th>\n",
       "      <td>332</td>\n",
       "      <td>25</td>\n",
       "      <td>11.05.2021</td>\n",
       "      <td>16.05.2021</td>\n",
       "      <td>Standard Class</td>\n",
       "      <td>United States</td>\n",
       "      <td>Concord</td>\n",
       "      <td>North Carolina</td>\n",
       "      <td>28027</td>\n",
       "      <td>14</td>\n",
       "    </tr>\n",
       "  </tbody>\n",
       "</table>\n",
       "</div>"
      ],
      "text/plain": [
       "   order_id  customer_id  order_date shipping_date   shipping_mode  \\\n",
       "0       328          166  04.12.2020    07.12.2020    Second Class   \n",
       "1       329          262  08.07.2020    12.07.2020    Second Class   \n",
       "2       330          728  06.11.2019    13.11.2019  Standard Class   \n",
       "3       331          111  05.07.2018    10.07.2018  Standard Class   \n",
       "4       332           25  11.05.2021    16.05.2021  Standard Class   \n",
       "\n",
       "  delivery_country    delivery_city  delivery_state  delivery_zip_code  return  \n",
       "0    United States        Henderson        Kentucky              42420      37  \n",
       "1    United States      Los Angeles      California              90036       1  \n",
       "2    United States  Fort Lauderdale         Florida              33311      47  \n",
       "3    United States      Los Angeles      California              90032       7  \n",
       "4    United States          Concord  North Carolina              28027      14  "
      ]
     },
     "execution_count": 4,
     "metadata": {},
     "output_type": "execute_result"
    }
   ],
   "source": [
    "df_orders = pd.read_csv(os.path.join(source_folder, 'orders.csv'), sep=';')\n",
    "print(df_orders.info())\n",
    "df_orders.head()"
   ]
  }
 ],
 "metadata": {
  "kernelspec": {
   "display_name": "my_env_1",
   "language": "python",
   "name": "python3"
  },
  "language_info": {
   "codemirror_mode": {
    "name": "ipython",
    "version": 3
   },
   "file_extension": ".py",
   "mimetype": "text/x-python",
   "name": "python",
   "nbconvert_exporter": "python",
   "pygments_lexer": "ipython3",
   "version": "3.13.1"
  }
 },
 "nbformat": 4,
 "nbformat_minor": 2
}
