{
 "cells": [
  {
   "cell_type": "markdown",
   "id": "3b74ebc0-b331-4e05-9f3f-5c6bc1306155",
   "metadata": {},
   "source": [
    "## Tworzenie DataFrame\n",
    "\n",
    "DataFrame można stworzyć na wiele sposobów, m.in. z listy słowników, słownika list, tablicy NumPy czy pliku CSV."
   ]
  },
  {
   "cell_type": "code",
   "execution_count": 1,
   "id": "1e281129",
   "metadata": {},
   "outputs": [
    {
     "data": {
      "text/html": [
       "<div>\n",
       "<style scoped>\n",
       "    .dataframe tbody tr th:only-of-type {\n",
       "        vertical-align: middle;\n",
       "    }\n",
       "\n",
       "    .dataframe tbody tr th {\n",
       "        vertical-align: top;\n",
       "    }\n",
       "\n",
       "    .dataframe thead th {\n",
       "        text-align: right;\n",
       "    }\n",
       "</style>\n",
       "<table border=\"1\" class=\"dataframe\">\n",
       "  <thead>\n",
       "    <tr style=\"text-align: right;\">\n",
       "      <th></th>\n",
       "      <th>Name</th>\n",
       "      <th>Age</th>\n",
       "      <th>City</th>\n",
       "    </tr>\n",
       "  </thead>\n",
       "  <tbody>\n",
       "    <tr>\n",
       "      <th>0</th>\n",
       "      <td>John</td>\n",
       "      <td>28</td>\n",
       "      <td>New York</td>\n",
       "    </tr>\n",
       "    <tr>\n",
       "      <th>1</th>\n",
       "      <td>Anna</td>\n",
       "      <td>24</td>\n",
       "      <td>Paris</td>\n",
       "    </tr>\n",
       "    <tr>\n",
       "      <th>2</th>\n",
       "      <td>Peter</td>\n",
       "      <td>35</td>\n",
       "      <td>Berlin</td>\n",
       "    </tr>\n",
       "    <tr>\n",
       "      <th>3</th>\n",
       "      <td>Linda</td>\n",
       "      <td>32</td>\n",
       "      <td>London</td>\n",
       "    </tr>\n",
       "  </tbody>\n",
       "</table>\n",
       "</div>"
      ],
      "text/plain": [
       "    Name  Age      City\n",
       "0   John   28  New York\n",
       "1   Anna   24     Paris\n",
       "2  Peter   35    Berlin\n",
       "3  Linda   32    London"
      ]
     },
     "execution_count": 1,
     "metadata": {},
     "output_type": "execute_result"
    }
   ],
   "source": [
    "import pandas as pd\n",
    "\n",
    "# Tworzenie DataFrame ze słownika list\n",
    "data = {\n",
    "    'Name': ['John', 'Anna', 'Peter', 'Linda'],\n",
    "    'Age': [28, 24, 35, 32],\n",
    "    'City': ['New York', 'Paris', 'Berlin', 'London']\n",
    "}\n",
    "\n",
    "df = pd.DataFrame(data)\n",
    "df"
   ]
  },
  {
   "cell_type": "code",
   "execution_count": 4,
   "id": "3ef00f51",
   "metadata": {},
   "outputs": [
    {
     "data": {
      "text/html": [
       "<div>\n",
       "<style scoped>\n",
       "    .dataframe tbody tr th:only-of-type {\n",
       "        vertical-align: middle;\n",
       "    }\n",
       "\n",
       "    .dataframe tbody tr th {\n",
       "        vertical-align: top;\n",
       "    }\n",
       "\n",
       "    .dataframe thead th {\n",
       "        text-align: right;\n",
       "    }\n",
       "</style>\n",
       "<table border=\"1\" class=\"dataframe\">\n",
       "  <thead>\n",
       "    <tr style=\"text-align: right;\">\n",
       "      <th></th>\n",
       "      <th>Name</th>\n",
       "      <th>Age</th>\n",
       "      <th>City</th>\n",
       "    </tr>\n",
       "  </thead>\n",
       "  <tbody>\n",
       "    <tr>\n",
       "      <th>0</th>\n",
       "      <td>John</td>\n",
       "      <td>30</td>\n",
       "      <td>New York</td>\n",
       "    </tr>\n",
       "    <tr>\n",
       "      <th>1</th>\n",
       "      <td>Anna</td>\n",
       "      <td>28</td>\n",
       "      <td>Paris</td>\n",
       "    </tr>\n",
       "    <tr>\n",
       "      <th>2</th>\n",
       "      <td>Paolo</td>\n",
       "      <td>35</td>\n",
       "      <td>Munich</td>\n",
       "    </tr>\n",
       "    <tr>\n",
       "      <th>3</th>\n",
       "      <td>Linda</td>\n",
       "      <td>32</td>\n",
       "      <td>Liverpool</td>\n",
       "    </tr>\n",
       "  </tbody>\n",
       "</table>\n",
       "</div>"
      ],
      "text/plain": [
       "    Name  Age       City\n",
       "0   John   30   New York\n",
       "1   Anna   28      Paris\n",
       "2  Paolo   35     Munich\n",
       "3  Linda   32  Liverpool"
      ]
     },
     "execution_count": 4,
     "metadata": {},
     "output_type": "execute_result"
    }
   ],
   "source": [
    "# Tworzenie DataFrame z listy słowników\n",
    "data = [\n",
    "    {'Name': 'John', 'Age': 30, 'City': 'New York'},\n",
    "    {'Name': 'Anna', 'Age': 28, 'City': 'Paris'},\n",
    "    {'Name': 'Paolo', 'Age': 35, 'City': 'Munich'},\n",
    "    {'Name': 'Linda', 'Age': 32, 'City': 'Liverpool'}\n",
    "]\n",
    "\n",
    "df = pd.DataFrame(data)\n",
    "\n",
    "df"
   ]
  },
  {
   "cell_type": "code",
   "execution_count": 9,
   "id": "bbe00e34",
   "metadata": {},
   "outputs": [
    {
     "data": {
      "text/html": [
       "<div>\n",
       "<style scoped>\n",
       "    .dataframe tbody tr th:only-of-type {\n",
       "        vertical-align: middle;\n",
       "    }\n",
       "\n",
       "    .dataframe tbody tr th {\n",
       "        vertical-align: top;\n",
       "    }\n",
       "\n",
       "    .dataframe thead th {\n",
       "        text-align: right;\n",
       "    }\n",
       "</style>\n",
       "<table border=\"1\" class=\"dataframe\">\n",
       "  <thead>\n",
       "    <tr style=\"text-align: right;\">\n",
       "      <th></th>\n",
       "      <th>Name</th>\n",
       "      <th>Age</th>\n",
       "      <th>City</th>\n",
       "    </tr>\n",
       "  </thead>\n",
       "  <tbody>\n",
       "    <tr>\n",
       "      <th>0</th>\n",
       "      <td>John</td>\n",
       "      <td>32</td>\n",
       "      <td>Los Angeles</td>\n",
       "    </tr>\n",
       "    <tr>\n",
       "      <th>1</th>\n",
       "      <td>Luca</td>\n",
       "      <td>24</td>\n",
       "      <td>Rome</td>\n",
       "    </tr>\n",
       "    <tr>\n",
       "      <th>2</th>\n",
       "      <td>Andreas</td>\n",
       "      <td>38</td>\n",
       "      <td>Berlin</td>\n",
       "    </tr>\n",
       "    <tr>\n",
       "      <th>3</th>\n",
       "      <td>Linda</td>\n",
       "      <td>32</td>\n",
       "      <td>London</td>\n",
       "    </tr>\n",
       "  </tbody>\n",
       "</table>\n",
       "</div>"
      ],
      "text/plain": [
       "      Name Age         City\n",
       "0     John  32  Los Angeles\n",
       "1     Luca  24         Rome\n",
       "2  Andreas  38       Berlin\n",
       "3    Linda  32       London"
      ]
     },
     "execution_count": 9,
     "metadata": {},
     "output_type": "execute_result"
    }
   ],
   "source": [
    "import numpy as np\n",
    "\n",
    "# Tworzenie DataFrame z tablicy NumPy\n",
    "data = np.array([\n",
    "    ['John', 32, 'Los Angeles'],\n",
    "    ['Luca', 24, 'Rome'],\n",
    "    ['Andreas', 38, 'Berlin'],\n",
    "    ['Linda', 32, 'London']\n",
    "])\n",
    "\n",
    "df = pd.DataFrame(data, columns=['Name', 'Age', 'City'])\n",
    "\n",
    "df"
   ]
  },
  {
   "cell_type": "markdown",
   "id": "ef5de2b7-4a8d-43ea-8f8a-6ff56becbb2e",
   "metadata": {},
   "source": [
    "## Atrybuty DataFrame\n",
    "\n",
    "DataFrame posiada kilka użytecznych atrybutów, które pozwalają na uzyskanie informacji o danych:\n",
    "\n",
    "- index - zwraca indeksy DataFrame.\n",
    "- columns - zwraca kolumny DataFrame.\n",
    "- values - zwraca wartości DataFrame.\n",
    "- shape - zwraca wymiary DataFrame (liczba wierszy i kolumn)."
   ]
  },
  {
   "cell_type": "code",
   "execution_count": 11,
   "id": "ae791603",
   "metadata": {},
   "outputs": [
    {
     "name": "stdout",
     "output_type": "stream",
     "text": [
      "RangeIndex(start=0, stop=4, step=1)\n",
      "\n",
      " -------------------- \n",
      "\n",
      "Index(['Name', 'Age', 'City'], dtype='object')\n",
      "\n",
      " -------------------- \n",
      "\n",
      "[['John' '32' 'Los Angeles']\n",
      " ['Luca' '24' 'Rome']\n",
      " ['Andreas' '38' 'Berlin']\n",
      " ['Linda' '32' 'London']]\n",
      "\n",
      " -------------------- \n",
      "\n",
      "(4, 3)\n"
     ]
    },
    {
     "data": {
      "text/html": [
       "<div>\n",
       "<style scoped>\n",
       "    .dataframe tbody tr th:only-of-type {\n",
       "        vertical-align: middle;\n",
       "    }\n",
       "\n",
       "    .dataframe tbody tr th {\n",
       "        vertical-align: top;\n",
       "    }\n",
       "\n",
       "    .dataframe thead th {\n",
       "        text-align: right;\n",
       "    }\n",
       "</style>\n",
       "<table border=\"1\" class=\"dataframe\">\n",
       "  <thead>\n",
       "    <tr style=\"text-align: right;\">\n",
       "      <th></th>\n",
       "      <th>Name</th>\n",
       "      <th>Age</th>\n",
       "      <th>City</th>\n",
       "    </tr>\n",
       "  </thead>\n",
       "  <tbody>\n",
       "    <tr>\n",
       "      <th>0</th>\n",
       "      <td>John</td>\n",
       "      <td>32</td>\n",
       "      <td>Los Angeles</td>\n",
       "    </tr>\n",
       "    <tr>\n",
       "      <th>1</th>\n",
       "      <td>Luca</td>\n",
       "      <td>24</td>\n",
       "      <td>Rome</td>\n",
       "    </tr>\n",
       "    <tr>\n",
       "      <th>2</th>\n",
       "      <td>Andreas</td>\n",
       "      <td>38</td>\n",
       "      <td>Berlin</td>\n",
       "    </tr>\n",
       "    <tr>\n",
       "      <th>3</th>\n",
       "      <td>Linda</td>\n",
       "      <td>32</td>\n",
       "      <td>London</td>\n",
       "    </tr>\n",
       "  </tbody>\n",
       "</table>\n",
       "</div>"
      ],
      "text/plain": [
       "      Name Age         City\n",
       "0     John  32  Los Angeles\n",
       "1     Luca  24         Rome\n",
       "2  Andreas  38       Berlin\n",
       "3    Linda  32       London"
      ]
     },
     "execution_count": 11,
     "metadata": {},
     "output_type": "execute_result"
    }
   ],
   "source": [
    "def s():\n",
    "    print(\"\\n\", \"-\" * 20, '\\n')\n",
    "\n",
    "print(df.index)\n",
    "s()\n",
    "print(df.columns)\n",
    "s()\n",
    "print(df.values)\n",
    "s()\n",
    "print(df.shape)\n",
    "\n",
    "df.head()"
   ]
  },
  {
   "cell_type": "markdown",
   "id": "e9386e44-5f8c-4db9-a246-967f4597c1cf",
   "metadata": {},
   "source": [
    "## Indeksowanie i Slicing\n",
    "\n",
    "Podobnie jak w przypadku Series, DataFrame można indeksować i wycinać na różne sposoby."
   ]
  },
  {
   "cell_type": "code",
   "execution_count": 12,
   "id": "091b7c7b",
   "metadata": {},
   "outputs": [
    {
     "name": "stdout",
     "output_type": "stream",
     "text": [
      "0       John\n",
      "1       Luca\n",
      "2    Andreas\n",
      "3      Linda\n",
      "Name: Name, dtype: object\n",
      "\n",
      " -------------------- \n",
      "\n"
     ]
    },
    {
     "data": {
      "text/html": [
       "<div>\n",
       "<style scoped>\n",
       "    .dataframe tbody tr th:only-of-type {\n",
       "        vertical-align: middle;\n",
       "    }\n",
       "\n",
       "    .dataframe tbody tr th {\n",
       "        vertical-align: top;\n",
       "    }\n",
       "\n",
       "    .dataframe thead th {\n",
       "        text-align: right;\n",
       "    }\n",
       "</style>\n",
       "<table border=\"1\" class=\"dataframe\">\n",
       "  <thead>\n",
       "    <tr style=\"text-align: right;\">\n",
       "      <th></th>\n",
       "      <th>Name</th>\n",
       "      <th>City</th>\n",
       "    </tr>\n",
       "  </thead>\n",
       "  <tbody>\n",
       "    <tr>\n",
       "      <th>0</th>\n",
       "      <td>John</td>\n",
       "      <td>Los Angeles</td>\n",
       "    </tr>\n",
       "    <tr>\n",
       "      <th>1</th>\n",
       "      <td>Luca</td>\n",
       "      <td>Rome</td>\n",
       "    </tr>\n",
       "    <tr>\n",
       "      <th>2</th>\n",
       "      <td>Andreas</td>\n",
       "      <td>Berlin</td>\n",
       "    </tr>\n",
       "    <tr>\n",
       "      <th>3</th>\n",
       "      <td>Linda</td>\n",
       "      <td>London</td>\n",
       "    </tr>\n",
       "  </tbody>\n",
       "</table>\n",
       "</div>"
      ],
      "text/plain": [
       "      Name         City\n",
       "0     John  Los Angeles\n",
       "1     Luca         Rome\n",
       "2  Andreas       Berlin\n",
       "3    Linda       London"
      ]
     },
     "execution_count": 12,
     "metadata": {},
     "output_type": "execute_result"
    }
   ],
   "source": [
    "print(df['Name'])\n",
    "s()\n",
    "df[['Name', 'City']]"
   ]
  },
  {
   "cell_type": "markdown",
   "id": "67116cd2-2c77-4f04-b3dd-cc5de5252219",
   "metadata": {},
   "source": [
    "### Indeksowanie za pomocą numerów wierszy i kolumn (loc i iloc)"
   ]
  },
  {
   "cell_type": "code",
   "execution_count": 13,
   "id": "a3511feb",
   "metadata": {},
   "outputs": [
    {
     "name": "stdout",
     "output_type": "stream",
     "text": [
      "Name           John\n",
      "Age              32\n",
      "City    Los Angeles\n",
      "Name: 0, dtype: object\n"
     ]
    }
   ],
   "source": [
    "print(df.loc[0])"
   ]
  },
  {
   "cell_type": "code",
   "execution_count": 14,
   "id": "838498d5",
   "metadata": {},
   "outputs": [
    {
     "name": "stdout",
     "output_type": "stream",
     "text": [
      "   Name Age         City\n",
      "0  John  32  Los Angeles\n",
      "1  Luca  24         Rome\n"
     ]
    }
   ],
   "source": [
    "print(df.loc[0:1, 'Name':'City'])"
   ]
  },
  {
   "cell_type": "code",
   "execution_count": 15,
   "id": "b64457a5",
   "metadata": {},
   "outputs": [
    {
     "name": "stdout",
     "output_type": "stream",
     "text": [
      "Name           John\n",
      "Age              32\n",
      "City    Los Angeles\n",
      "Name: 0, dtype: object\n"
     ]
    }
   ],
   "source": [
    "print(df.iloc[0])"
   ]
  },
  {
   "cell_type": "code",
   "execution_count": 18,
   "id": "146b634b",
   "metadata": {},
   "outputs": [
    {
     "name": "stdout",
     "output_type": "stream",
     "text": [
      "      Name Age         City\n",
      "0     John  32  Los Angeles\n",
      "1     Luca  24         Rome\n",
      "2  Andreas  38       Berlin\n"
     ]
    }
   ],
   "source": [
    "print(df.iloc[0:3, 0:3])"
   ]
  },
  {
   "cell_type": "markdown",
   "id": "36a02a1b-67aa-484c-a7e3-4dda09bbf62b",
   "metadata": {},
   "source": [
    "#### loc - Indeksowanie za pomocą etykiet\n",
    "\n",
    "- Indeksowanie etykietami: loc pozwala na odwoływanie się do wierszy i kolumn za pomocą ich etykiet (nazw).\n",
    "- Zawiera wartość końcową: Zakresy są inkluzywne - oznacza to, że zarówno początek, jak i koniec zakresu są włączone.\n",
    "- Działa z indeksami oraz nazwami kolumn: Można używać zarówno wartości indeksu wiersza, jak i nazw kolumn.\n",
    "\n",
    "#### iloc - Indeksowanie za pomocą pozycji\n",
    "\n",
    "- Indeksowanie pozycjami: iloc pozwala na odwoływanie się do wierszy i kolumn za pomocą ich pozycji liczbowych (integer-based indexing).\n",
    "- Nie zawiera wartości końcowej: Zakresy są półotwarte - oznacza to, że początek zakresu jest włączony, ale koniec zakresu jest wyłączony.\n",
    "- Działa z pozycjami wierszy i kolumn: Można używać tylko pozycji liczbowych, zarówno dla wierszy, jak i kolumn."
   ]
  }
 ],
 "metadata": {
  "kernelspec": {
   "display_name": "my_env_1",
   "language": "python",
   "name": "python3"
  },
  "language_info": {
   "codemirror_mode": {
    "name": "ipython",
    "version": 3
   },
   "file_extension": ".py",
   "mimetype": "text/x-python",
   "name": "python",
   "nbconvert_exporter": "python",
   "pygments_lexer": "ipython3",
   "version": "3.13.1"
  }
 },
 "nbformat": 4,
 "nbformat_minor": 5
}
