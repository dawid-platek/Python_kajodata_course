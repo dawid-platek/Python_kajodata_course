{
 "cells": [
  {
   "cell_type": "markdown",
   "id": "a1e34312-14a3-4cfb-88b9-9b69f60f5c2c",
   "metadata": {},
   "source": [
    "Series to jednowymiarowa struktura danych, podobna do listy lub tablicy, ale z dodatkowymi możliwościami, które czynią ją potężnym narzędziem do analizy danych."
   ]
  },
  {
   "cell_type": "markdown",
   "id": "56658749-0fe2-40b8-aa35-4811d90c6ef8",
   "metadata": {},
   "source": [
    "## Tworzenie Series\n",
    "\n",
    "Możemy stworzyć Series na kilka różnych sposobów, m.in. z listy, słownika czy tablicy NumPy."
   ]
  },
  {
   "cell_type": "code",
   "execution_count": 1,
   "id": "f5025989",
   "metadata": {},
   "outputs": [
    {
     "name": "stdout",
     "output_type": "stream",
     "text": [
      "0    10\n",
      "1    20\n",
      "2    30\n",
      "3    40\n",
      "4    50\n",
      "dtype: int64\n"
     ]
    }
   ],
   "source": [
    "import pandas as pd\n",
    "\n",
    "data = [10, 20, 30, 40, 50]\n",
    "series = pd.Series(data)\n",
    "\n",
    "print(series)"
   ]
  },
  {
   "cell_type": "code",
   "execution_count": 2,
   "id": "f112c85c",
   "metadata": {},
   "outputs": [
    {
     "name": "stdout",
     "output_type": "stream",
     "text": [
      "a    1\n",
      "b    2\n",
      "c    3\n",
      "d    4\n",
      "dtype: int64\n"
     ]
    }
   ],
   "source": [
    "data_dict = {'a': 1, 'b': 2, 'c': 3, 'd': 4}\n",
    "series_dict = pd.Series(data_dict)\n",
    "\n",
    "print(series_dict)"
   ]
  },
  {
   "cell_type": "code",
   "execution_count": 3,
   "id": "defbcb65",
   "metadata": {},
   "outputs": [
    {
     "name": "stdout",
     "output_type": "stream",
     "text": [
      "0    1\n",
      "1    2\n",
      "2    3\n",
      "3    4\n",
      "4    5\n",
      "dtype: int64\n"
     ]
    }
   ],
   "source": [
    "import numpy as np\n",
    "\n",
    "series_array = pd.Series(np.array([1, 2, 3, 4, 5]))\n",
    "print(series_array)"
   ]
  },
  {
   "cell_type": "markdown",
   "id": "bcb9c106-7382-4583-a8f9-796a2eca0c73",
   "metadata": {},
   "source": [
    "## Atrybuty Series\n",
    "\n",
    "Obiekty Series mają kilka użytecznych atrybutów, które pozwalają na uzyskanie informacji o danych:\n",
    "\n",
    "- index - zwraca indeksy Series.\n",
    "- values - zwraca wartości Series.\n",
    "- dtype - zwraca typ danych w Series."
   ]
  },
  {
   "cell_type": "code",
   "execution_count": 8,
   "id": "b746d39b",
   "metadata": {},
   "outputs": [
    {
     "name": "stdout",
     "output_type": "stream",
     "text": [
      "RangeIndex(start=0, stop=5, step=1)\n",
      "----------\n",
      "[10 20 30 40 50]\n",
      "----------\n",
      "int64\n"
     ]
    }
   ],
   "source": [
    "print(series.index)\n",
    "print(10*'-')\n",
    "\n",
    "print(series.values)\n",
    "print(10*'-')\n",
    "\n",
    "print(series.dtype)"
   ]
  },
  {
   "cell_type": "markdown",
   "id": "f64b317a-359d-42dc-8691-4222eb79e1b4",
   "metadata": {},
   "source": [
    "## Indeksowanie i Slicing\n",
    "\n",
    "Series można indeksować i wycinać podobnie jak listy lub tablice w Pythonie."
   ]
  },
  {
   "cell_type": "code",
   "execution_count": 11,
   "id": "69dfdac3",
   "metadata": {},
   "outputs": [
    {
     "name": "stdout",
     "output_type": "stream",
     "text": [
      "10\n"
     ]
    }
   ],
   "source": [
    "print(series[0])"
   ]
  },
  {
   "cell_type": "code",
   "execution_count": 12,
   "id": "f13cb8cf",
   "metadata": {},
   "outputs": [
    {
     "name": "stdout",
     "output_type": "stream",
     "text": [
      "1    20\n",
      "2    30\n",
      "3    40\n",
      "dtype: int64\n"
     ]
    }
   ],
   "source": [
    "print(series[1:4])"
   ]
  },
  {
   "cell_type": "markdown",
   "id": "2a1dd5ce-3032-422a-99c0-137cbc14c02b",
   "metadata": {},
   "source": [
    "## Operacje na Series\n",
    "\n",
    "Pandas umożliwia łatwe przeprowadzanie różnych operacji na Series."
   ]
  },
  {
   "cell_type": "code",
   "execution_count": 14,
   "id": "5b705ed7",
   "metadata": {},
   "outputs": [
    {
     "name": "stdout",
     "output_type": "stream",
     "text": [
      "0    30\n",
      "1    40\n",
      "2    50\n",
      "3    60\n",
      "4    70\n",
      "dtype: int64\n"
     ]
    }
   ],
   "source": [
    "print(series + 20)"
   ]
  },
  {
   "cell_type": "code",
   "execution_count": 15,
   "id": "db205f6a",
   "metadata": {},
   "outputs": [
    {
     "name": "stdout",
     "output_type": "stream",
     "text": [
      "0     20\n",
      "1     40\n",
      "2     60\n",
      "3     80\n",
      "4    100\n",
      "dtype: int64\n"
     ]
    }
   ],
   "source": [
    "print(series * 2)"
   ]
  },
  {
   "cell_type": "code",
   "execution_count": 18,
   "id": "716e4493",
   "metadata": {},
   "outputs": [
    {
     "name": "stdout",
     "output_type": "stream",
     "text": [
      "0    False\n",
      "1    False\n",
      "2     True\n",
      "3    False\n",
      "4    False\n",
      "dtype: bool\n",
      "0     True\n",
      "1     True\n",
      "2    False\n",
      "3     True\n",
      "4     True\n",
      "dtype: bool\n"
     ]
    }
   ],
   "source": [
    "data_with_nan = [1, 2, np.nan, 4, 5]\n",
    "series_with_nan = pd.Series(data_with_nan)\n",
    "\n",
    "print(series_with_nan.isnull())\n",
    "print(series_with_nan.notnull())"
   ]
  },
  {
   "cell_type": "code",
   "execution_count": 20,
   "id": "a5fbf466",
   "metadata": {},
   "outputs": [
    {
     "name": "stdout",
     "output_type": "stream",
     "text": [
      "2    30\n",
      "3    40\n",
      "4    50\n",
      "dtype: int64\n"
     ]
    }
   ],
   "source": [
    "data = [10, 20, 30, 40, 50]\n",
    "series = pd.Series(data)\n",
    "\n",
    "filtered_series_1 = series[series > 20]\n",
    "print(filtered_series_1)"
   ]
  },
  {
   "cell_type": "code",
   "execution_count": 21,
   "id": "f15123dd",
   "metadata": {},
   "outputs": [
    {
     "name": "stdout",
     "output_type": "stream",
     "text": [
      "3    40\n",
      "dtype: int64\n"
     ]
    }
   ],
   "source": [
    "filtered_series_2 = series[series == 40]\n",
    "print(filtered_series_2)"
   ]
  },
  {
   "cell_type": "code",
   "execution_count": 23,
   "id": "4ad5dc10",
   "metadata": {},
   "outputs": [
    {
     "name": "stdout",
     "output_type": "stream",
     "text": [
      "0    10\n",
      "1    20\n",
      "4    50\n",
      "dtype: int64\n"
     ]
    }
   ],
   "source": [
    "filtered_series_3 = series[(series < 30) | (series == 50)]\n",
    "print(filtered_series_3)"
   ]
  },
  {
   "cell_type": "code",
   "execution_count": 24,
   "id": "0522353b",
   "metadata": {},
   "outputs": [
    {
     "name": "stdout",
     "output_type": "stream",
     "text": [
      "2    30\n",
      "dtype: int64\n"
     ]
    }
   ],
   "source": [
    "filtered_series_4 = series[(series < 40) & (series > 20)]\n",
    "print(filtered_series_4)"
   ]
  },
  {
   "cell_type": "code",
   "execution_count": 27,
   "id": "f3215a81",
   "metadata": {},
   "outputs": [
    {
     "name": "stdout",
     "output_type": "stream",
     "text": [
      "150\n",
      "30.0\n",
      "30.0\n",
      "15.811388300841896\n",
      "10\n",
      "50\n"
     ]
    }
   ],
   "source": [
    "print(series.sum())\n",
    "print(series.mean())\n",
    "print(series.median())\n",
    "print(series.std())\n",
    "print(series.min())\n",
    "print(series.max())\n",
    "\n",
    "\n"
   ]
  }
 ],
 "metadata": {
  "kernelspec": {
   "display_name": "my_env_1",
   "language": "python",
   "name": "python3"
  },
  "language_info": {
   "codemirror_mode": {
    "name": "ipython",
    "version": 3
   },
   "file_extension": ".py",
   "mimetype": "text/x-python",
   "name": "python",
   "nbconvert_exporter": "python",
   "pygments_lexer": "ipython3",
   "version": "3.13.1"
  }
 },
 "nbformat": 4,
 "nbformat_minor": 5
}
