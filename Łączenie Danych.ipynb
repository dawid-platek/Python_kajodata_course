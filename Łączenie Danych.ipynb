{
 "cells": [
  {
   "cell_type": "code",
   "execution_count": 1,
   "id": "c107cb26-fec7-4514-a209-42d93f27dff8",
   "metadata": {},
   "outputs": [
    {
     "name": "stdout",
     "output_type": "stream",
     "text": [
      "DataFrame 1:\n",
      "   ID     Name  Age\n",
      "0   1    Alice   25\n",
      "1   2      Bob   30\n",
      "2   3  Charlie   35\n",
      "3   4    David   40\n",
      "\n",
      "DataFrame 2:\n",
      "   ID     Name  Salary\n",
      "0   3  Charlie   70000\n",
      "1   4    David   80000\n",
      "2   5   Edward   90000\n",
      "3   6    Fiona  100000\n"
     ]
    }
   ],
   "source": [
    "# Na początek utworzymy dwa przykładowe DataFrame, które będziemy łączyć i mergować\n",
    "\n",
    "import pandas as pd\n",
    "\n",
    "# DataFrame 1\n",
    "data1 = {\n",
    "    'ID': [1, 2, 3, 4],\n",
    "    'Name': ['Alice', 'Bob', 'Charlie', 'David'],\n",
    "    'Age': [25, 30, 35, 40]\n",
    "}\n",
    "df1 = pd.DataFrame(data1)\n",
    "\n",
    "# DataFrame 2\n",
    "data2 = {\n",
    "    'ID': [3, 4, 5, 6],\n",
    "    'Name': ['Charlie', 'David', 'Edward', 'Fiona'],\n",
    "    'Salary': [70000, 80000, 90000, 100000]\n",
    "}\n",
    "df2 = pd.DataFrame(data2)\n",
    "\n",
    "print(\"DataFrame 1:\")\n",
    "print(df1)\n",
    "print(\"\\nDataFrame 2:\")\n",
    "print(df2)"
   ]
  },
  {
   "cell_type": "markdown",
   "id": "47679017-67c1-42c4-bcae-dd3ac87d33c6",
   "metadata": {},
   "source": [
    "## Operacje typu JOIN"
   ]
  },
  {
   "cell_type": "markdown",
   "id": "6887d640-6fbe-4d9a-b130-af70616afa4a",
   "metadata": {},
   "source": [
    "## Operacje typu UNION"
   ]
  }
 ],
 "metadata": {
  "kernelspec": {
   "display_name": "Python 3 (ipykernel)",
   "language": "python",
   "name": "python3"
  },
  "language_info": {
   "codemirror_mode": {
    "name": "ipython",
    "version": 3
   },
   "file_extension": ".py",
   "mimetype": "text/x-python",
   "name": "python",
   "nbconvert_exporter": "python",
   "pygments_lexer": "ipython3",
   "version": "3.11.7"
  }
 },
 "nbformat": 4,
 "nbformat_minor": 5
}
