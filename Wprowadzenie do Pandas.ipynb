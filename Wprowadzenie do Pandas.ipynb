{
 "cells": [
  {
   "cell_type": "markdown",
   "id": "9d80194d-1818-49ab-b8fd-0efe5d491b24",
   "metadata": {},
   "source": [
    "## Co to jest Pandas?"
   ]
  },
  {
   "cell_type": "markdown",
   "id": "57612a9f-f4e8-4a9a-8661-ce2b036179f6",
   "metadata": {},
   "source": [
    "Pandas to biblioteka open-source, która dostarcza łatwe w użyciu struktury danych oraz narzędzia do analizy danych. Dwie główne struktury danych w Pandas to Series i DataFrame.\n",
    "\n",
    "- Series to jednowymiarowa tablica z etykietami.\n",
    "- DataFrame to dwuwymiarowa tablica (coś jak tabela w Excelu), gdzie kolumny mogą mieć różne typy danych."
   ]
  },
  {
   "cell_type": "markdown",
   "id": "7cd17689-e308-4871-8c9b-23a6bb97f450",
   "metadata": {},
   "source": [
    "### Instalacja\n",
    "\n",
    "Ponieważ korzystamy z Anacondy i Jupyter Notebooka główne analityczne biblioteki mamy w pakiecie"
   ]
  },
  {
   "cell_type": "markdown",
   "id": "0b0ea505-4918-4972-b4b5-2d17c5f43162",
   "metadata": {},
   "source": [
    "## Tworzenie Series\n",
    "\n",
    "Series to jednowymiarowa struktura danych. Oto jak możemy stworzyć Series z listy:\n",
    "\n",
    "Konwencją jest używanie aliasu pd dla Pandas przy imporcie, co sprawia, że kod jest bardziej czytelny i zwięzły."
   ]
  },
  {
   "cell_type": "code",
   "execution_count": 5,
   "id": "58cfd80a",
   "metadata": {},
   "outputs": [
    {
     "data": {
      "text/plain": [
       "0    1\n",
       "1    2\n",
       "2    3\n",
       "3    4\n",
       "4    5\n",
       "dtype: object"
      ]
     },
     "execution_count": 5,
     "metadata": {},
     "output_type": "execute_result"
    }
   ],
   "source": [
    "import pandas as pd\n",
    "\n",
    "data = [1, 2, '3', 4, 5]\n",
    "series = pd.Series(data)\n",
    "\n",
    "series"
   ]
  },
  {
   "cell_type": "markdown",
   "id": "c2999e70-9b6f-4ecc-bd68-f59ca350b505",
   "metadata": {},
   "source": [
    "## Tworzenie DataFrame\n",
    "\n",
    "DataFrame to dwuwymiarowa struktura danych. Możemy stworzyć DataFrame z wielu źródeł danych, takich jak słownik list. Inną opcją jest import danych, ale o tym w jednej z kolejnych lekcji."
   ]
  },
  {
   "cell_type": "code",
   "execution_count": null,
   "id": "3953a53b",
   "metadata": {},
   "outputs": [],
   "source": []
  },
  {
   "cell_type": "markdown",
   "id": "b815455f-182a-472b-8e7c-221dba73a446",
   "metadata": {},
   "source": [
    "### Podstawowe operacje na DataFrame"
   ]
  }
 ],
 "metadata": {
  "kernelspec": {
   "display_name": "my_env_1",
   "language": "python",
   "name": "python3"
  },
  "language_info": {
   "codemirror_mode": {
    "name": "ipython",
    "version": 3
   },
   "file_extension": ".py",
   "mimetype": "text/x-python",
   "name": "python",
   "nbconvert_exporter": "python",
   "pygments_lexer": "ipython3",
   "version": "3.13.1"
  }
 },
 "nbformat": 4,
 "nbformat_minor": 5
}
