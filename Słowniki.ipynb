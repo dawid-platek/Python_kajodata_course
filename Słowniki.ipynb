{
 "cells": [
  {
   "cell_type": "markdown",
   "id": "a23455bb-87b4-4dd9-8c7a-5926adc7d545",
   "metadata": {},
   "source": [
    "Słowniki w Pythonie (dictionaries) to niezwykle użyteczne i wszechstronne struktury danych, które pozwalają przechowywać i organizować dane w parach klucz-wartość. \n",
    "\n",
    "Słowniki są niezmiernie ważne w wielu aspektach programowania w Pythonie, szczególnie gdy potrzebujesz szybkiego dostępu do danych za pomocą klucza."
   ]
  },
  {
   "cell_type": "code",
   "execution_count": 15,
   "id": "684d02c1",
   "metadata": {},
   "outputs": [
    {
     "name": "stdout",
     "output_type": "stream",
     "text": [
      "{'name': 'John', 'surname': 'Kowalski', 'age': 25}\n"
     ]
    }
   ],
   "source": [
    "my_dict = {'name': 'John', 'surname': 'Kowalski', 'age': 25}\n",
    "print(my_dict)"
   ]
  },
  {
   "cell_type": "markdown",
   "id": "73fe3c15-30e2-45f1-a5f9-e1cea8dde8cc",
   "metadata": {},
   "source": [
    "## Dostęp do wartości\n",
    "Do wartości słownika możesz uzyskać dostęp, używając kluczy w nawiasach kwadratowych [].\n"
   ]
  },
  {
   "cell_type": "code",
   "execution_count": 16,
   "id": "6bca851e",
   "metadata": {},
   "outputs": [
    {
     "name": "stdout",
     "output_type": "stream",
     "text": [
      "John\n"
     ]
    }
   ],
   "source": [
    "print(my_dict['name'])"
   ]
  },
  {
   "metadata": {},
   "cell_type": "markdown",
   "source": [
    "## Tworzenie słownika\n",
    "Słownik tworzysz, używając nawiasów klamrowych {} z parami klucz-wartość oddzielonymi przecinkami.\n",
    "\n",
    "Klucze w słowniku muszą być niezmienne, co oznacza, że możesz używać typów takich jak liczby, stringi, czy tuple (o ile zawierają tylko niezmienne typy danych).\n",
    "\n"
   ],
   "id": "3796ce8f-e785-4919-9e98-e588932c28a6"
  },
  {
   "cell_type": "markdown",
   "id": "e516d49c-f681-47e7-b09f-1920690836be",
   "metadata": {},
   "source": [
    "## Dodawanie i modyfikowanie elementów\n",
    "Dodawanie nowych elementów lub modyfikowanie istniejących w słowniku również odbywa się za pomocą kluczy."
   ]
  },
  {
   "cell_type": "code",
   "id": "f1e2be30",
   "metadata": {
    "jupyter": {
     "is_executing": true
    }
   },
   "source": [
    "my_dict['email'] = 'aaa@bbb.com'\n",
    "print(my_dict)"
   ],
   "outputs": [],
   "execution_count": null
  },
  {
   "cell_type": "code",
   "execution_count": 19,
   "id": "eb008354",
   "metadata": {},
   "outputs": [
    {
     "name": "stdout",
     "output_type": "stream",
     "text": [
      "{'name': 'John', 'surname': 'Kowalski', 'age': 32, 'email': 'aaa@bbb.com'}\n"
     ]
    }
   ],
   "source": [
    "my_dict['age'] = 32\n",
    "print(my_dict)"
   ]
  },
  {
   "cell_type": "markdown",
   "id": "2586ebff-4639-4dc1-8868-f661ef18104c",
   "metadata": {},
   "source": [
    "## Usuwanie elementów\n",
    "Do usuwania elementów z słownika możesz użyć instrukcji del, metody pop(), która również zwraca wartość, oraz metody popitem(), która usuwa ostatnio dodaną parę klucz-wartość."
   ]
  },
  {
   "cell_type": "code",
   "execution_count": 21,
   "id": "b15bad40",
   "metadata": {},
   "outputs": [
    {
     "name": "stdout",
     "output_type": "stream",
     "text": [
      "{'name': 'John', 'age': 32, 'email': 'aaa@bbb.com'}\n"
     ]
    }
   ],
   "source": [
    "del my_dict['surname']\n",
    "print(my_dict)"
   ]
  },
  {
   "cell_type": "code",
   "execution_count": 22,
   "id": "69f0df61",
   "metadata": {},
   "outputs": [
    {
     "name": "stdout",
     "output_type": "stream",
     "text": [
      "32\n"
     ]
    }
   ],
   "source": [
    "print(my_dict.pop('age'))"
   ]
  },
  {
   "cell_type": "markdown",
   "id": "a628e70a-e72a-4753-a83e-295194978a45",
   "metadata": {},
   "source": [
    "## Sprawdzanie obecności klucza\n",
    "Aby sprawdzić, czy klucz istnieje w słowniku, możesz użyć operatora 'in'."
   ]
  },
  {
   "cell_type": "code",
   "execution_count": 25,
   "id": "815a3972",
   "metadata": {},
   "outputs": [
    {
     "name": "stdout",
     "output_type": "stream",
     "text": [
      "Key 'name' found in dictionary.\n"
     ]
    }
   ],
   "source": [
    "my_key = \"name\"\n",
    "if my_key in my_dict:\n",
    "    print(f\"Key '{my_key}' found in dictionary.\")"
   ]
  },
  {
   "cell_type": "markdown",
   "id": "5f9da146-0627-4e5f-9fe6-dfb67c24c819",
   "metadata": {},
   "source": [
    "## Metody słowników\n",
    "Słowniki mają różne metody, które pomagają w pracy z nimi. Kilka przykładów to keys(), values(), i items()."
   ]
  },
  {
   "cell_type": "code",
   "execution_count": 29,
   "id": "d89bdb54-15bf-4f4b-bfd1-0e294707874c",
   "metadata": {},
   "outputs": [
    {
     "name": "stdout",
     "output_type": "stream",
     "text": [
      "dict_keys(['name', 'email'])\n",
      "dict_values(['John', 'aaa@bbb.com'])\n",
      "dict_items([('name', 'John'), ('email', 'aaa@bbb.com')])\n"
     ]
    }
   ],
   "source": [
    "# keys() zwraca listę kluczy w słowniku\n",
    "# values() zwraca listę wartości\n",
    "# items() zwraca listę par klucz-wartość (jako tuple)\n",
    "\n",
    "keys = my_dict.keys()\n",
    "values = my_dict.values()\n",
    "items = my_dict.items()\n",
    "\n",
    "print(keys)\n",
    "print(values)\n",
    "print(items)"
   ]
  }
 ],
 "metadata": {
  "kernelspec": {
   "display_name": "Python 3",
   "language": "python",
   "name": "python3"
  },
  "language_info": {
   "codemirror_mode": {
    "name": "ipython",
    "version": 3
   },
   "file_extension": ".py",
   "mimetype": "text/x-python",
   "name": "python",
   "nbconvert_exporter": "python",
   "pygments_lexer": "ipython3",
   "version": "3.13.0"
  }
 },
 "nbformat": 4,
 "nbformat_minor": 5
}
