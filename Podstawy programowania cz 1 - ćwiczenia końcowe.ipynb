{
 "cells": [
  {
   "cell_type": "markdown",
   "id": "93ec278a-8738-44fa-bea1-09786b7e60dc",
   "metadata": {},
   "source": [
    "## Zadanie 1: Filtrowanie danych klientów\n",
    "Plik o nazwie customers.txt, zawiera listę klientów wraz z ich wiekiem. \n",
    "\n",
    "Chcesz wyfiltrować i wydrukować tylko tych klientów, którzy są pełnoletni (18 lat lub więcej).\n"
   ]
  },
  {
   "cell_type": "code",
   "execution_count": 5,
   "id": "db9f1841",
   "metadata": {},
   "outputs": [
    {
     "name": "stdout",
     "output_type": "stream",
     "text": [
      "Pełnoletni klienci: \n",
      "Jan Kowalski\n",
      "Anna Nowak\n",
      "Marek Marecki\n",
      "Kasia Kowal\n",
      "Tomek Nowak\n"
     ]
    }
   ],
   "source": [
    "with open('customers.txt', 'r') as file:\n",
    "    content = file.readlines()\n",
    "adult_customers = []\n",
    "\n",
    "for customer in content:\n",
    "    name, age = customer.strip().split(',')\n",
    "    if int(18) >= 18:\n",
    "        adult_customers.append(name)\n",
    "print(\"Pełnoletni klienci: \")\n",
    "for customer in adult_customers:\n",
    "    print(customer)\n",
    "file.close()"
   ]
  },
  {
   "cell_type": "markdown",
   "id": "d983b83f",
   "metadata": {},
   "source": [
    "## Zadanie 2: Suma wyników sprzedaży\n",
    "Masz plik sales.txt, który zawiera dane sprzedaży produktów. \n",
    "\n",
    "Chcesz obliczyć całkowitą sprzedaż.\n"
   ]
  },
  {
   "cell_type": "code",
   "execution_count": 8,
   "id": "7f47463d",
   "metadata": {},
   "outputs": [
    {
     "name": "stdout",
     "output_type": "stream",
     "text": [
      "Całkowita wartość sprzedaży: 150\n"
     ]
    }
   ],
   "source": [
    "with open(\"sales.txt\", 'r') as file:\n",
    "    sales = file.readlines()\n",
    "\n",
    "all_sales = []\n",
    "\n",
    "for entry in sales:\n",
    "    split_entry = entry.strip().split(',')  # Usuń białe znaki i podziel linię\n",
    "    amount = int(split_entry[1])  # Użyj indeksu [1] aby pobrać wartość sprzedaży\n",
    "    all_sales.append(amount)  # Dodaj wartość sprzedaży do listy\n",
    "\n",
    "# Sumuj wszystkie wartości sprzedaży\n",
    "total_sales = sum(all_sales)\n",
    "\n",
    "print(\"Całkowita wartość sprzedaży:\", total_sales)"
   ]
  }
 ],
 "metadata": {
  "kernelspec": {
   "display_name": "Python 3",
   "language": "python",
   "name": "python3"
  },
  "language_info": {
   "codemirror_mode": {
    "name": "ipython",
    "version": 3
   },
   "file_extension": ".py",
   "mimetype": "text/x-python",
   "name": "python",
   "nbconvert_exporter": "python",
   "pygments_lexer": "ipython3",
   "version": "3.13.0"
  }
 },
 "nbformat": 4,
 "nbformat_minor": 5
}
