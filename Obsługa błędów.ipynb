{
 "cells": [
  {
   "cell_type": "markdown",
   "id": "70919ce0-0f7c-459a-90ac-217a8597818f",
   "metadata": {},
   "source": [
    "## Podstawy obsługi wyjątków\n",
    "\n",
    "Podstawowy blok obsługi wyjątków w Pythonie składa się z instrukcji try, except, opcjonalnie else i finally."
   ]
  },
  {
   "cell_type": "code",
   "execution_count": 12,
   "id": "ffa2e776",
   "metadata": {},
   "outputs": [
    {
     "name": "stdout",
     "output_type": "stream",
     "text": [
      "Nie da się dzielić przez 0.\n",
      "Zawsze wynik kodu się pokaże, bez względu na błąd.\n"
     ]
    }
   ],
   "source": [
    "try:\n",
    "    r = 10/0\n",
    "    print(r)\n",
    "except ZeroDivisionError:\n",
    "    print('Nie da się dzielić przez 0.')\n",
    "else:\n",
    "    print('Jest OK.')\n",
    "finally:\n",
    "    print(\"Zawsze wynik kodu się pokaże, bez względu na błąd.\")"
   ]
  },
  {
   "cell_type": "markdown",
   "id": "1fdbbad3-38da-4cc1-8612-d4acebde10a3",
   "metadata": {},
   "source": [
    "## Typy błędów (exceptions)\n",
    "\n",
    "Python ma wiele wbudowanych wyjątków takich jak ZeroDivisionError, ValueError, TypeError, FileNotFoundError itp., które możesz wykorzystać do obsługi różnych typów błędów."
   ]
  },
  {
   "cell_type": "code",
   "execution_count": 13,
   "id": "2f7a3637",
   "metadata": {},
   "outputs": [
    {
     "name": "stdout",
     "output_type": "stream",
     "text": [
      "Plik nie został znaleziony\n"
     ]
    }
   ],
   "source": [
    "try:\n",
    "    with open('nieistniejący_plik.txt', 'r') as file:\n",
    "        content = file.read()\n",
    "except FileNotFoundError:\n",
    "    print('Plik nie został znaleziony')"
   ]
  },
  {
   "cell_type": "code",
   "execution_count": 19,
   "id": "73750424",
   "metadata": {},
   "outputs": [
    {
     "name": "stdout",
     "output_type": "stream",
     "text": [
      "Twoja liczba to: 30\n"
     ]
    }
   ],
   "source": [
    "try:\n",
    "    number = int(input('Wprowadź liczbę: '))\n",
    "    print(f'Twoja liczba to: {number}')\n",
    "except ValueError:\n",
    "    print(\"To nie jest prawidłowa liczba\")"
   ]
  },
  {
   "cell_type": "code",
   "execution_count": 20,
   "id": "2153a53d",
   "metadata": {},
   "outputs": [
    {
     "name": "stdout",
     "output_type": "stream",
     "text": [
      "Alice ma 30 lat.\n",
      "Brakujący klucz w danych!!!\n"
     ]
    }
   ],
   "source": [
    "data = [{'name': 'Alice', 'age': '30'}, {'name': 'John'}]\n",
    "try:\n",
    "    for entry in data:\n",
    "        print(f\"{entry ['name']} ma {entry['age']} lat.\")\n",
    "except KeyError:\n",
    "    print(\"Brakujący klucz w danych!!!\")"
   ]
  },
  {
   "cell_type": "raw",
   "id": "58e9853a-0194-4866-b006-88ab8afee104",
   "metadata": {},
   "source": [
    ">> Praktyczne wskazówki\n",
    "\n",
    "> Dokładne wyjątki: Zawsze stawiaj na obsługę konkretnych wyjątków zamiast ogólnego wyjątku Exception. To pozwala na bardziej precyzyjne i bezpieczne obsługiwanie błędów.\n",
    "\n",
    "> Minimalny kod w bloku try: Staraj się umieszczać w bloku try tylko ten kod, który rzeczywiście może spowodować wyjątek.\n",
    "\n",
    "> Logowanie: W praktyce produkcyjnej zamiast drukowania błędów, warto je logować, używając biblioteki jak logging, co daje lepszą kontrolę nad tym, co dzieje się z informacjami o błędach."
   ]
  }
 ],
 "metadata": {
  "kernelspec": {
   "display_name": "Python 3",
   "language": "python",
   "name": "python3"
  },
  "language_info": {
   "codemirror_mode": {
    "name": "ipython",
    "version": 3
   },
   "file_extension": ".py",
   "mimetype": "text/x-python",
   "name": "python",
   "nbconvert_exporter": "python",
   "pygments_lexer": "ipython3",
   "version": "3.13.1"
  }
 },
 "nbformat": 4,
 "nbformat_minor": 5
}
