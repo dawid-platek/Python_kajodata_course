{
 "cells": [
  {
   "cell_type": "markdown",
   "id": "16bbe248-135d-43cd-8f7e-81e158ad7216",
   "metadata": {},
   "source": [
    "## Funkcja do analizy sprzedaży produktu"
   ]
  },
  {
   "cell_type": "markdown",
   "id": "70f08d91-21e7-4dce-8b1e-3d6aabfdf9f4",
   "metadata": {},
   "source": [
    "Chcemy funkcję, która przyjmuje listę danych o sprzedaży oraz nazwę produktu (niech będzie to lista słowników), a zwraca całkowitą liczbę sprzedanych sztuk tego produktu."
   ]
  },
  {
   "cell_type": "code",
   "execution_count": 1,
   "id": "73fb9436",
   "metadata": {},
   "outputs": [],
   "source": [
    "sales_data = [\n",
    "    {'date': '2021-01-01', 'product': 'Apple', 'quantity': 50},\n",
    "    {'date': '2021-01-01', 'product': 'Banana', 'quantity': 70},\n",
    "    {'date': '2021-01-02', 'product': 'Apple', 'quantity': 65},\n",
    "    {'date': '2021-01-02', 'product': 'Banana', 'quantity': 99}\n",
    "]"
   ]
  },
  {
   "cell_type": "code",
   "execution_count": 2,
   "id": "2e19d626",
   "metadata": {},
   "outputs": [],
   "source": [
    "def total_sales(data, product_name):\n",
    "    total = 0\n",
    "    for d in data:\n",
    "        if d['product'] == product_name:\n",
    "            total += d['quantity']\n",
    "    return total\n"
   ]
  },
  {
   "cell_type": "code",
   "execution_count": 3,
   "id": "2e810ca7",
   "metadata": {},
   "outputs": [
    {
     "name": "stdout",
     "output_type": "stream",
     "text": [
      "Total apple sales: 115\n",
      "Total banana sales: 169\n"
     ]
    }
   ],
   "source": [
    "print(f\"Total apple sales: {total_sales(sales_data, 'Apple')}\")\n",
    "print(f\"Total banana sales: {total_sales(sales_data, 'Banana')}\")"
   ]
  },
  {
   "cell_type": "markdown",
   "id": "2b1b00a3-3b79-4eba-9553-a95a26f55b6c",
   "metadata": {},
   "source": [
    "## Funkcja do analizy sprzedaży produktu - wersja pro"
   ]
  },
  {
   "cell_type": "markdown",
   "id": "08836816-49cd-4dd7-a2fb-b1c46a7217ee",
   "metadata": {},
   "source": [
    "Chcemy funkcję, która przyjmuje listę danych o sprzedaży oraz nazwę produktu (niech będzie to lista słowników), a zwraca całkowitą liczbę sprzedanych sztuk tego produktu. Dane trzeba będzie jednak wcześniej z pliku tekstowego. Rozdzielimy to zatem na 2 funkcje.\n"
   ]
  },
  {
   "cell_type": "code",
   "execution_count": 14,
   "id": "dbd2bcf8",
   "metadata": {},
   "outputs": [],
   "source": [
    "import os\n",
    "# data sample below\n",
    "# dir data/sales_january.txt\n",
    "# date,product,quantity\n",
    "# 2024-02-01,Apple,20"
   ]
  },
  {
   "cell_type": "code",
   "execution_count": 15,
   "id": "a2d53587",
   "metadata": {},
   "outputs": [],
   "source": [
    "def read_sales_data(filepath: str) -> list:\n",
    "    \"\"\"\n",
    "    Read sales file and returns list with dictionaries\n",
    "    \"\"\"\n",
    "    data = []\n",
    "    with open(filepath, 'r') as file:\n",
    "        next(file) # skip header\n",
    "        for line in file:\n",
    "            date, product, quantity = line.strip().split(',')\n",
    "            data.append({'date': date, 'product': product, 'quantity': quantity})\n",
    "    return data"
   ]
  },
  {
   "cell_type": "code",
   "execution_count": 11,
   "id": "8ed9bdc8",
   "metadata": {},
   "outputs": [
    {
     "name": "stdout",
     "output_type": "stream",
     "text": [
      "[{'date': '2024-01-01', 'product': 'Apple', 'quantity': '50'}, {'date': '2024-01-01', 'product': 'Banana', 'quantity': '75'}, {'date': '2024-01-02', 'product': 'Apple', 'quantity': '44'}, {'date': '2024-01-03', 'product': 'Banana', 'quantity': '75'}]\n"
     ]
    }
   ],
   "source": [
    "print(read_sales_data('data/sales_january.txt'))"
   ]
  },
  {
   "cell_type": "code",
   "execution_count": 24,
   "id": "67fa6bc7",
   "metadata": {},
   "outputs": [],
   "source": [
    "def total_sales_2(directory: str, product_name: str) -> int:\n",
    "\n",
    "    \"\"\"\n",
    "    Check folder for sales files and returns total product quantity\n",
    "    \"\"\"\n",
    "    total = 0\n",
    "    for file in os.listdir(directory):\n",
    "        if file.endswith('.txt'):\n",
    "            filepath = os.path.join(directory, file)\n",
    "            data = read_sales_data(filepath)\n",
    "            for d in data:\n",
    "                if d['product'] == product_name:\n",
    "                    total += int(d['quantity'])\n",
    "    return total\n"
   ]
  },
  {
   "cell_type": "code",
   "execution_count": 29,
   "id": "0dfd0997",
   "metadata": {},
   "outputs": [
    {
     "name": "stdout",
     "output_type": "stream",
     "text": [
      "138\n",
      "Total quantity of product: Apple, sold: 138\n"
     ]
    }
   ],
   "source": [
    "d = os.path.join(os.getcwd(),'data')\n",
    "p = 'Apple'\n",
    "print(total_sales_2(d,p))\n",
    "print(f'Total quantity of product: {p}, sold: {total_sales_2(d,p)}')"
   ]
  }
 ],
 "metadata": {
  "kernelspec": {
   "display_name": "Python 3",
   "language": "python",
   "name": "python3"
  },
  "language_info": {
   "codemirror_mode": {
    "name": "ipython",
    "version": 3
   },
   "file_extension": ".py",
   "mimetype": "text/x-python",
   "name": "python",
   "nbconvert_exporter": "python",
   "pygments_lexer": "ipython3",
   "version": "3.13.1"
  }
 },
 "nbformat": 4,
 "nbformat_minor": 5
}
