{
 "cells": [
  {
   "cell_type": "markdown",
   "id": "97d6721e-1e8f-4d9c-a3ec-b573de1646b8",
   "metadata": {},
   "source": [
    "## Podstawy tworzenia funkcji\n",
    "\n",
    "Funkcja w Pythonie definiowana jest za pomocą słowa kluczowego def, po którym następuje nazwa funkcji, nawiasy (w których mogą znajdować się parametry) i dwukropek. Blok kodu wewnątrz funkcji jest wcięty."
   ]
  },
  {
   "cell_type": "markdown",
   "id": "18fa2b86-53f1-4abf-9bc8-04e1edeab931",
   "metadata": {},
   "source": [
    "## Prosty przykład funkcji"
   ]
  },
  {
   "cell_type": "code",
   "execution_count": 42,
   "id": "ed86f6ba",
   "metadata": {},
   "outputs": [],
   "source": [
    "def greet(name):\n",
    "    print(f'hello, {name}!')"
   ]
  },
  {
   "cell_type": "code",
   "execution_count": 43,
   "id": "2508b492",
   "metadata": {},
   "outputs": [
    {
     "name": "stdout",
     "output_type": "stream",
     "text": [
      "hello, Peter!\n"
     ]
    }
   ],
   "source": [
    "greet('Peter')"
   ]
  },
  {
   "cell_type": "markdown",
   "id": "16507446-77c4-4c78-91bf-08c846664931",
   "metadata": {},
   "source": [
    "## Bardziej złożony przykład\n",
    "\n",
    "Stwórzmy funkcję count_passing, która przyjmuje listę ocen i zwraca liczbę studentów, którzy zdali."
   ]
  },
  {
   "cell_type": "code",
   "execution_count": 69,
   "id": "6488eed2",
   "metadata": {},
   "outputs": [],
   "source": [
    "grades = [55, 30, 44, 56, 88, 26, 58]"
   ]
  },
  {
   "cell_type": "code",
   "execution_count": 70,
   "id": "7010558f",
   "metadata": {},
   "outputs": [],
   "source": [
    "def count_passing(grades, score=50):\n",
    "    count = 0\n",
    "    for grade in grades:\n",
    "        if grade >= score:\n",
    "            count += 1\n",
    "    return count\n"
   ]
  },
  {
   "cell_type": "code",
   "execution_count": 71,
   "id": "c92d2ce4",
   "metadata": {},
   "outputs": [
    {
     "name": "stdout",
     "output_type": "stream",
     "text": [
      "4\n"
     ]
    }
   ],
   "source": [
    "print(count_passing(grades, 55))"
   ]
  }
 ],
 "metadata": {
  "kernelspec": {
   "display_name": "Python 3",
   "language": "python",
   "name": "python3"
  },
  "language_info": {
   "codemirror_mode": {
    "name": "ipython",
    "version": 3
   },
   "file_extension": ".py",
   "mimetype": "text/x-python",
   "name": "python",
   "nbconvert_exporter": "python",
   "pygments_lexer": "ipython3",
   "version": "3.13.1"
  }
 },
 "nbformat": 4,
 "nbformat_minor": 5
}
