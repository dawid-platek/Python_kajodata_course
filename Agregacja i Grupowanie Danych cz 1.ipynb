{
 "cells": [
  {
   "cell_type": "markdown",
   "id": "c72606de-4f06-4da0-ba44-71cefd6c44d4",
   "metadata": {},
   "source": [
    "### Wczytanie i podgląd danych"
   ]
  },
  {
   "cell_type": "markdown",
   "id": "1396bbd0-f0dc-458c-a9c1-28895a5c23b8",
   "metadata": {},
   "source": [
    "### Grupowanie danych za pomocą groupby():\n",
    "\n",
    "Metoda groupby() w Pandas pozwala na grupowanie danych według jednej lub kilku kolumn. Po grupowaniu możemy zastosować różne funkcje agregujące, takie jak sumowanie, średnia, itp.\n",
    "\n",
    "Po utworzeniu obiektu GroupBy, możemy zastosować różne funkcje agregujące do grup."
   ]
  },
  {
   "cell_type": "markdown",
   "id": "e859b4ae-d404-499f-80d1-d673cba6e945",
   "metadata": {},
   "source": [
    "### Grupowanie z filtrowaniem"
   ]
  },
  {
   "cell_type": "markdown",
   "id": "438445e1-3e3a-46c0-9232-2d906f970494",
   "metadata": {},
   "source": [
    "### Agregacja na wielu kolumnach"
   ]
  },
  {
   "cell_type": "markdown",
   "id": "902f0d14-a24e-4135-a2b7-4bf2509e58a2",
   "metadata": {},
   "source": [
    "### Grupowanie i agregacja z transformacją"
   ]
  }
 ],
 "metadata": {
  "kernelspec": {
   "display_name": "Python 3 (ipykernel)",
   "language": "python",
   "name": "python3"
  },
  "language_info": {
   "codemirror_mode": {
    "name": "ipython",
    "version": 3
   },
   "file_extension": ".py",
   "mimetype": "text/x-python",
   "name": "python",
   "nbconvert_exporter": "python",
   "pygments_lexer": "ipython3",
   "version": "3.11.7"
  }
 },
 "nbformat": 4,
 "nbformat_minor": 5
}
