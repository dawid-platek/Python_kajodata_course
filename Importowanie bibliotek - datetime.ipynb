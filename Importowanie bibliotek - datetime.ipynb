{
 "cells": [
  {
   "cell_type": "markdown",
   "id": "e75c2cb4-230d-4c54-9d34-bf9c5b8e21f9",
   "metadata": {},
   "source": [
    "## Importowanie bibliotek\n",
    "Importowanie bibliotek w Pythonie pozwala na dostęp do dodatkowych funkcji i klas, które nie są wbudowane w standardową instalację Pythona. datetime jest modułem w standardowej bibliotece Pythona, więc nie musisz nic instalować, aby z niego korzystać."
   ]
  },
  {
   "cell_type": "markdown",
   "id": "7543cbe3-7150-4168-8d37-aa8ddd14de03",
   "metadata": {},
   "source": [
    "Aby zaimportować cały moduł, użyj słowa kluczowego import."
   ]
  },
  {
   "cell_type": "code",
   "execution_count": 1,
   "id": "046d4ddc",
   "metadata": {},
   "outputs": [],
   "source": [
    "import datetime"
   ]
  },
  {
   "cell_type": "markdown",
   "id": "bc7042a9-3658-4c65-b180-1c65aca4f609",
   "metadata": {},
   "source": [
    "Jeśli potrzebujesz tylko określonych funkcji lub klas z modułu, możesz je zaimportować bezpośrednio."
   ]
  },
  {
   "cell_type": "code",
   "execution_count": 2,
   "id": "10c537e9",
   "metadata": {},
   "outputs": [],
   "source": [
    "from datetime import datetime"
   ]
  },
  {
   "cell_type": "markdown",
   "id": "9cd3ebf5-8dfb-419e-b8e0-af0c8837a1c4",
   "metadata": {},
   "source": [
    "## Podstawy datetime"
   ]
  },
  {
   "cell_type": "markdown",
   "id": "9b27dee9-9d8d-4797-be12-7db3cc067fa6",
   "metadata": {},
   "source": [
    "Moduł datetime dostarcza kilka klas, takich jak date, time, datetime, timedelta, i timezone, które pomagają w zarządzaniu datami i czasami."
   ]
  },
  {
   "cell_type": "markdown",
   "id": "8df710ee-3d2f-4404-9eae-ad0c27d244de",
   "metadata": {},
   "source": [
    "### Klasy datetime i date\n",
    "Klasa datetime umożliwia manipulację datami i czasami razem, natomiast date jest używana tylko do dat."
   ]
  },
  {
   "cell_type": "code",
   "execution_count": 5,
   "id": "b6ffb73f",
   "metadata": {},
   "outputs": [
    {
     "name": "stdout",
     "output_type": "stream",
     "text": [
      "2024-11-16 20:03:09.406040\n",
      "2024-11-16\n"
     ]
    }
   ],
   "source": [
    "from datetime import datetime, date\n",
    "\n",
    "print(datetime.now())\n",
    "print(date.today())"
   ]
  },
  {
   "cell_type": "markdown",
   "id": "ea67c83b",
   "metadata": {},
   "source": [
    "### timedelta\n",
    "timedelta jest używana do operacji na datach, takich jak dodawanie lub odejmowanie dni, tygodni, godzin itp."
   ]
  },
  {
   "cell_type": "code",
   "execution_count": 9,
   "id": "21959241",
   "metadata": {},
   "outputs": [
    {
     "name": "stdout",
     "output_type": "stream",
     "text": [
      "Data za tydzień: 2024-11-23\n"
     ]
    }
   ],
   "source": [
    "from datetime import timedelta\n",
    "\n",
    "# dodawanie dni\n",
    "today = date.today()\n",
    "week_later = today + timedelta(days=7)\n",
    "print(\"Data za tydzień:\", week_later)"
   ]
  },
  {
   "cell_type": "markdown",
   "id": "c3536321-dbf5-4600-85d3-96d1a85ed3fb",
   "metadata": {},
   "source": [
    "### timedelta\n",
    "timedelta jest używana do operacji na datach, takich jak dodawanie lub odejmowanie dni, tygodni, godzin itp."
   ]
  },
  {
   "cell_type": "code",
   "execution_count": 10,
   "id": "401cbdda",
   "metadata": {},
   "outputs": [
    {
     "name": "stdout",
     "output_type": "stream",
     "text": [
      "Data w zeszłym tygodniu: 2024-11-09\n"
     ]
    }
   ],
   "source": [
    "from datetime import timedelta\n",
    "\n",
    "# odejmowanie dni\n",
    "today = date.today()\n",
    "week_early = today - timedelta(days=7)\n",
    "print(\"Data w zeszłym tygodniu:\", week_early)"
   ]
  },
  {
   "cell_type": "markdown",
   "id": "91818e5d-e1b0-4f1b-9fa5-957c6c6b00e0",
   "metadata": {},
   "source": [
    "### Formaty w strptime"
   ]
  },
  {
   "cell_type": "raw",
   "id": "c0a0d2e1-ab49-4ad6-ae34-429b0d5224df",
   "metadata": {},
   "source": [
    "Funkcja strptime() wymaga podania formatu daty. Oto kilka przykładów dyrektyw formatujących, które można użyć:\n",
    "\n",
    "%Y - rok z czterema cyframi (np. 2021)\n",
    "%m - miesiąc jako liczba z zerem wiodącym (01 do 12)\n",
    "%d - dzień miesiąca jako liczba z zerem wiodącym (01 do 31)\n",
    "%H - godzina w formacie 24-godzinnym z zerem wiodącym (00 do 23)\n",
    "%M - minuty z zerem wiodącym (00 do 59)\n",
    "%S - sekundy z zerem wiodącym (00 do 59)\n",
    "\n",
    "Istnieje wiele innych dyrektyw formatujących, które umożliwiają reprezentację różnych aspektów dat i czasów, w tym dni tygodnia, stref czasowych "
   ]
  },
  {
   "cell_type": "code",
   "execution_count": 12,
   "id": "1f873062",
   "metadata": {},
   "outputs": [
    {
     "name": "stdout",
     "output_type": "stream",
     "text": [
      "Sformatowana data: 2024-11-16 20:14:39\n"
     ]
    }
   ],
   "source": [
    "formatted_date = datetime.now().strftime(\"%Y-%m-%d %H:%M:%S\")\n",
    "print(\"Sformatowana data: \" + formatted_date)"
   ]
  },
  {
   "cell_type": "code",
   "execution_count": 13,
   "id": "14165622",
   "metadata": {},
   "outputs": [
    {
     "name": "stdout",
     "output_type": "stream",
     "text": [
      "Sparsowana data 2020-01-01 13:56:34\n"
     ]
    }
   ],
   "source": [
    "date_str = '2020-01-01 13:56:34'\n",
    "parsed_date = datetime.strptime(date_str, '%Y-%m-%d %H:%M:%S')\n",
    "print(\"Sparsowana data\", parsed_date)"
   ]
  }
 ],
 "metadata": {
  "kernelspec": {
   "display_name": "Python 3",
   "language": "python",
   "name": "python3"
  },
  "language_info": {
   "codemirror_mode": {
    "name": "ipython",
    "version": 3
   },
   "file_extension": ".py",
   "mimetype": "text/x-python",
   "name": "python",
   "nbconvert_exporter": "python",
   "pygments_lexer": "ipython3",
   "version": "3.13.0"
  }
 },
 "nbformat": 4,
 "nbformat_minor": 5
}
