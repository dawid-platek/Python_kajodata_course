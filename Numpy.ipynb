{
 "cells": [
  {
   "cell_type": "markdown",
   "id": "36b2ac21-6841-4f3c-bf7d-99ad578f0dc5",
   "metadata": {},
   "source": [
    "## Podstawy NumPy i NumPy Arrays\n",
    "\n",
    "W tej lekcji wprowadzę Cię do biblioteki NumPy, która jest fundamentalnym narzędziem do obliczeń naukowych w Pythonie. NumPy, czyli Numerical Python, oferuje wszechstronne wsparcie dla wielowymiarowych tablic i macierzy, a także szeroki zakres funkcji matematycznych. NumPy to biblioteka Pythona, która umożliwia pracę z wielowymiarowymi tablicami (arrays) oraz dostarcza narzędzia do przeprowadzania operacji matematycznych na tych tablicach. W kontekście Pandas, NumPy arrays są podstawą dla struktury DataFrame."
   ]
  },
  {
   "cell_type": "markdown",
   "id": "a99396c1-09d0-49b2-b16d-c279208bad61",
   "metadata": {},
   "source": [
    "### Tworzenie NumPy Arrays"
   ]
  },
  {
   "cell_type": "code",
   "execution_count": 13,
   "id": "cfc08fb0",
   "metadata": {},
   "outputs": [
    {
     "name": "stdout",
     "output_type": "stream",
     "text": [
      "[1 2 3 4]\n",
      "[1, 2, 3, 4]\n"
     ]
    }
   ],
   "source": [
    "import numpy as np\n",
    "\n",
    "data = [1, 2, 3, 4]\n",
    "array = np.array(data)\n",
    "\n",
    "print(array)\n",
    "print(data)\n",
    "\n"
   ]
  },
  {
   "cell_type": "code",
   "execution_count": 15,
   "id": "75e5812d",
   "metadata": {},
   "outputs": [
    {
     "name": "stdout",
     "output_type": "stream",
     "text": [
      "[0 1 2 3 4 5 6 7 8 9]\n",
      "[10 12 14 16 18]\n"
     ]
    }
   ],
   "source": [
    "array_arange = np.arange(10)\n",
    "array_arange_2 = np.arange(10, 20, 2)\n",
    "\n",
    "print(array_arange)\n",
    "print(array_arange_2)"
   ]
  },
  {
   "cell_type": "markdown",
   "id": "03cf46f5-3693-46b4-b9da-7a27a659a177",
   "metadata": {},
   "source": [
    "### Operacje na NumPy Arrays"
   ]
  },
  {
   "cell_type": "code",
   "execution_count": 17,
   "id": "e64047ff",
   "metadata": {},
   "outputs": [
    {
     "name": "stdout",
     "output_type": "stream",
     "text": [
      "[5 7 9]\n",
      "[2 4 6]\n",
      "[1 4 9]\n"
     ]
    }
   ],
   "source": [
    "array_1 = np.array([1, 2, 3])\n",
    "array_2 = np.array([4, 5, 6])\n",
    "\n",
    "print(array_1 + array_2)\n",
    "print(array_1 * 2)\n",
    "print(array_1 ** 2)"
   ]
  },
  {
   "cell_type": "code",
   "execution_count": 20,
   "id": "0a008a46",
   "metadata": {},
   "outputs": [
    {
     "name": "stdout",
     "output_type": "stream",
     "text": [
      "[20 30 40]\n"
     ]
    }
   ],
   "source": [
    "array = np.array([10, 20, 30, 40, 50])\n",
    "print(array[1:4])"
   ]
  },
  {
   "cell_type": "code",
   "execution_count": 26,
   "id": "ecd574c2",
   "metadata": {},
   "outputs": [
    {
     "name": "stdout",
     "output_type": "stream",
     "text": [
      "[ 0  1  2  3  4  5  6  7  8  9 10 11]\n",
      "[[ 0  1  2  3]\n",
      " [ 4  5  6  7]\n",
      " [ 8  9 10 11]]\n"
     ]
    }
   ],
   "source": [
    "array = np.arange(12)\n",
    "array_reshaped = array.reshape((3, 4))\n",
    "\n",
    "print(array)\n",
    "print(array_reshaped)"
   ]
  },
  {
   "cell_type": "markdown",
   "id": "01f75b66-2d4c-461f-8c2f-1cc15438e6ad",
   "metadata": {},
   "source": [
    "### Homogeniczność\n",
    "\n",
    "NumPy arrays są homogeniczne, co oznacza, że wszystkie elementy muszą być tego samego typu."
   ]
  },
  {
   "cell_type": "code",
   "execution_count": 27,
   "id": "deab0be3",
   "metadata": {},
   "outputs": [
    {
     "name": "stdout",
     "output_type": "stream",
     "text": [
      "[1, 2, 'a', 4, 5]\n",
      "['1' '2' 'a' '4' '5']\n"
     ]
    }
   ],
   "source": [
    "my_list = [1, 2, 'a', 4, 5]\n",
    "my_array = np.array(my_list)\n",
    "print(my_list)\n",
    "print(my_array)"
   ]
  },
  {
   "cell_type": "markdown",
   "id": "05e5bbed-d45a-43b3-98b6-fe6184f9aa0f",
   "metadata": {},
   "source": [
    "### Listy vs NumPy Arrays"
   ]
  },
  {
   "cell_type": "markdown",
   "id": "8b3b8a02-a3ec-477d-906c-4aad4af418df",
   "metadata": {},
   "source": [
    "- NumPy arrays są znacznie bardziej wydajne pod względem pamięci i szybkości niż listy Pythona. Operacje na NumPy arrays są wykonywane szybciej dzięki implementacji w języku C.\n",
    "- NumPy arrays wspierają elementarne operacje matematyczne bezpośrednio na całych tablicach, co jest bardziej intuicyjne i szybsze niż iterowanie przez listy.\n",
    "- NumPy oferuje szeroki wachlarz funkcji matematycznych, statystycznych i operacji algebry liniowej, które nie są dostępne dla list."
   ]
  }
 ],
 "metadata": {
  "kernelspec": {
   "display_name": "my_env_1",
   "language": "python",
   "name": "python3"
  },
  "language_info": {
   "codemirror_mode": {
    "name": "ipython",
    "version": 3
   },
   "file_extension": ".py",
   "mimetype": "text/x-python",
   "name": "python",
   "nbconvert_exporter": "python",
   "pygments_lexer": "ipython3",
   "version": "3.13.1"
  }
 },
 "nbformat": 4,
 "nbformat_minor": 5
}
